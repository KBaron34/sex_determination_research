{
 "cells": [
  {
   "cell_type": "markdown",
   "id": "970a1164",
   "metadata": {},
   "source": [
    "# Описание задачи"
   ]
  },
  {
   "cell_type": "markdown",
   "id": "9c566597",
   "metadata": {},
   "source": [
    "Ссылка на данные: https://ods.ai/competitions/mtsmlcup\n",
    "\n",
    "Можно ли составить хотя бы приблизительное представление о человеке, обладая информацией о сайтах, которые он посещает? Можно ли по таким цифровым следам пользователя (на каких сайтах с каких IP он сидел, сколько раз заходил, какое у него устройство) понять, кто этот пользователь? Мужчина или женщина? \n",
    "\n",
    "Действительно, в Digital-рекламе часто сегмент включает себя пол. Эта задача особенно актуальна для рекламных DSP-площадок, которые в OpenRTB запросах получают такие данные с частотой 200 000 запросов в секунду со всех сайтов, размещающих рекламу за деньги.\n",
    "\n",
    "В этой части проекта осуществляем обучение базовой модели, подбор оптимальных гиперпараметров, а также уменьшаем переобучение. \n",
    "\n",
    "Описание данных:\n",
    "- user_id – ID пользователя;\n",
    "- age – Возраст пользователя;\n",
    "- is_male – Пол пользователя : мужчина (1-Да, 0-Нет);\n",
    "- 0-49 - массив скрытых факторов для каждого пользователя.\n",
    "\n",
    "Target - is_male."
   ]
  },
  {
   "cell_type": "markdown",
   "id": "10fa937b",
   "metadata": {},
   "source": [
    "# Import"
   ]
  },
  {
   "cell_type": "code",
   "execution_count": 1,
   "id": "39a90041",
   "metadata": {},
   "outputs": [],
   "source": [
    "import numpy as np\n",
    "import pandas as pd\n",
    "from scipy import stats\n",
    "\n",
    "from sklearn.linear_model import LogisticRegression\n",
    "from sklearn.model_selection import train_test_split, StratifiedKFold\n",
    "from sklearn.metrics import accuracy_score, roc_auc_score, precision_score, \\\n",
    "recall_score, log_loss, f1_score\n",
    "\n",
    "from lightgbm import LGBMClassifier\n",
    "from catboost import CatBoostClassifier\n",
    "\n",
    "import matplotlib.pyplot as plt\n",
    "import seaborn as sns\n",
    "import optuna\n",
    "\n",
    "import warnings\n",
    "warnings.filterwarnings('ignore')\n",
    "\n",
    "RAND = 10\n",
    "N_FOLDS = 5"
   ]
  },
  {
   "cell_type": "code",
   "execution_count": 2,
   "id": "239a2b55",
   "metadata": {},
   "outputs": [],
   "source": [
    "data_path = 'data/df.csv'"
   ]
  },
  {
   "cell_type": "code",
   "execution_count": 3,
   "id": "0d0a1e6f",
   "metadata": {},
   "outputs": [],
   "source": [
    "df = pd.read_csv(data_path)"
   ]
  },
  {
   "cell_type": "code",
   "execution_count": 5,
   "id": "b5e05e49",
   "metadata": {},
   "outputs": [
    {
     "data": {
      "text/html": [
       "<div>\n",
       "<style scoped>\n",
       "    .dataframe tbody tr th:only-of-type {\n",
       "        vertical-align: middle;\n",
       "    }\n",
       "\n",
       "    .dataframe tbody tr th {\n",
       "        vertical-align: top;\n",
       "    }\n",
       "\n",
       "    .dataframe thead th {\n",
       "        text-align: right;\n",
       "    }\n",
       "</style>\n",
       "<table border=\"1\" class=\"dataframe\">\n",
       "  <thead>\n",
       "    <tr style=\"text-align: right;\">\n",
       "      <th></th>\n",
       "      <th>age</th>\n",
       "      <th>is_male</th>\n",
       "      <th>user_id</th>\n",
       "      <th>0</th>\n",
       "      <th>1</th>\n",
       "      <th>2</th>\n",
       "      <th>3</th>\n",
       "      <th>4</th>\n",
       "      <th>5</th>\n",
       "      <th>6</th>\n",
       "      <th>...</th>\n",
       "      <th>40</th>\n",
       "      <th>41</th>\n",
       "      <th>42</th>\n",
       "      <th>43</th>\n",
       "      <th>44</th>\n",
       "      <th>45</th>\n",
       "      <th>46</th>\n",
       "      <th>47</th>\n",
       "      <th>48</th>\n",
       "      <th>49</th>\n",
       "    </tr>\n",
       "  </thead>\n",
       "  <tbody>\n",
       "    <tr>\n",
       "      <th>0</th>\n",
       "      <td>41.0</td>\n",
       "      <td>0</td>\n",
       "      <td>99002</td>\n",
       "      <td>-0.018215</td>\n",
       "      <td>0.056048</td>\n",
       "      <td>0.036799</td>\n",
       "      <td>0.052251</td>\n",
       "      <td>-0.013346</td>\n",
       "      <td>-0.023392</td>\n",
       "      <td>0.043092</td>\n",
       "      <td>...</td>\n",
       "      <td>0.052035</td>\n",
       "      <td>-0.121878</td>\n",
       "      <td>0.055076</td>\n",
       "      <td>-0.015839</td>\n",
       "      <td>0.018824</td>\n",
       "      <td>-0.094934</td>\n",
       "      <td>0.015466</td>\n",
       "      <td>0.011858</td>\n",
       "      <td>0.013139</td>\n",
       "      <td>-0.054794</td>\n",
       "    </tr>\n",
       "    <tr>\n",
       "      <th>1</th>\n",
       "      <td>41.0</td>\n",
       "      <td>1</td>\n",
       "      <td>29286</td>\n",
       "      <td>0.008094</td>\n",
       "      <td>0.001213</td>\n",
       "      <td>-0.000524</td>\n",
       "      <td>0.001148</td>\n",
       "      <td>0.003961</td>\n",
       "      <td>-0.002873</td>\n",
       "      <td>-0.000930</td>\n",
       "      <td>...</td>\n",
       "      <td>0.002693</td>\n",
       "      <td>-0.004197</td>\n",
       "      <td>0.006693</td>\n",
       "      <td>0.001544</td>\n",
       "      <td>0.003873</td>\n",
       "      <td>0.000770</td>\n",
       "      <td>0.003408</td>\n",
       "      <td>0.003392</td>\n",
       "      <td>-0.001343</td>\n",
       "      <td>0.000868</td>\n",
       "    </tr>\n",
       "    <tr>\n",
       "      <th>2</th>\n",
       "      <td>53.0</td>\n",
       "      <td>1</td>\n",
       "      <td>353838</td>\n",
       "      <td>0.021180</td>\n",
       "      <td>0.068266</td>\n",
       "      <td>0.096674</td>\n",
       "      <td>0.065289</td>\n",
       "      <td>-0.009294</td>\n",
       "      <td>0.058854</td>\n",
       "      <td>-0.021472</td>\n",
       "      <td>...</td>\n",
       "      <td>0.059732</td>\n",
       "      <td>0.021463</td>\n",
       "      <td>0.042012</td>\n",
       "      <td>0.043192</td>\n",
       "      <td>0.019687</td>\n",
       "      <td>-0.022575</td>\n",
       "      <td>0.016078</td>\n",
       "      <td>0.011212</td>\n",
       "      <td>0.055767</td>\n",
       "      <td>-0.080996</td>\n",
       "    </tr>\n",
       "    <tr>\n",
       "      <th>3</th>\n",
       "      <td>24.0</td>\n",
       "      <td>1</td>\n",
       "      <td>159197</td>\n",
       "      <td>0.044245</td>\n",
       "      <td>-0.079523</td>\n",
       "      <td>-0.012748</td>\n",
       "      <td>0.010571</td>\n",
       "      <td>-0.007838</td>\n",
       "      <td>-0.033496</td>\n",
       "      <td>0.035646</td>\n",
       "      <td>...</td>\n",
       "      <td>0.033311</td>\n",
       "      <td>-0.013801</td>\n",
       "      <td>0.081155</td>\n",
       "      <td>-0.040711</td>\n",
       "      <td>0.018557</td>\n",
       "      <td>-0.029355</td>\n",
       "      <td>0.005674</td>\n",
       "      <td>0.014074</td>\n",
       "      <td>-0.030055</td>\n",
       "      <td>0.023635</td>\n",
       "    </tr>\n",
       "    <tr>\n",
       "      <th>4</th>\n",
       "      <td>33.0</td>\n",
       "      <td>0</td>\n",
       "      <td>32977</td>\n",
       "      <td>0.014237</td>\n",
       "      <td>0.048163</td>\n",
       "      <td>-0.003383</td>\n",
       "      <td>0.007215</td>\n",
       "      <td>0.029555</td>\n",
       "      <td>-0.014801</td>\n",
       "      <td>0.010186</td>\n",
       "      <td>...</td>\n",
       "      <td>0.020040</td>\n",
       "      <td>-0.001924</td>\n",
       "      <td>0.028181</td>\n",
       "      <td>0.003136</td>\n",
       "      <td>0.006599</td>\n",
       "      <td>0.040024</td>\n",
       "      <td>0.002026</td>\n",
       "      <td>0.025010</td>\n",
       "      <td>-0.015105</td>\n",
       "      <td>0.013612</td>\n",
       "    </tr>\n",
       "  </tbody>\n",
       "</table>\n",
       "<p>5 rows × 53 columns</p>\n",
       "</div>"
      ],
      "text/plain": [
       "    age  is_male  user_id         0         1         2         3         4  \\\n",
       "0  41.0        0    99002 -0.018215  0.056048  0.036799  0.052251 -0.013346   \n",
       "1  41.0        1    29286  0.008094  0.001213 -0.000524  0.001148  0.003961   \n",
       "2  53.0        1   353838  0.021180  0.068266  0.096674  0.065289 -0.009294   \n",
       "3  24.0        1   159197  0.044245 -0.079523 -0.012748  0.010571 -0.007838   \n",
       "4  33.0        0    32977  0.014237  0.048163 -0.003383  0.007215  0.029555   \n",
       "\n",
       "          5         6  ...        40        41        42        43        44  \\\n",
       "0 -0.023392  0.043092  ...  0.052035 -0.121878  0.055076 -0.015839  0.018824   \n",
       "1 -0.002873 -0.000930  ...  0.002693 -0.004197  0.006693  0.001544  0.003873   \n",
       "2  0.058854 -0.021472  ...  0.059732  0.021463  0.042012  0.043192  0.019687   \n",
       "3 -0.033496  0.035646  ...  0.033311 -0.013801  0.081155 -0.040711  0.018557   \n",
       "4 -0.014801  0.010186  ...  0.020040 -0.001924  0.028181  0.003136  0.006599   \n",
       "\n",
       "         45        46        47        48        49  \n",
       "0 -0.094934  0.015466  0.011858  0.013139 -0.054794  \n",
       "1  0.000770  0.003408  0.003392 -0.001343  0.000868  \n",
       "2 -0.022575  0.016078  0.011212  0.055767 -0.080996  \n",
       "3 -0.029355  0.005674  0.014074 -0.030055  0.023635  \n",
       "4  0.040024  0.002026  0.025010 -0.015105  0.013612  \n",
       "\n",
       "[5 rows x 53 columns]"
      ]
     },
     "execution_count": 5,
     "metadata": {},
     "output_type": "execute_result"
    }
   ],
   "source": [
    "df.head()"
   ]
  },
  {
   "cell_type": "code",
   "execution_count": 6,
   "id": "00485a72",
   "metadata": {},
   "outputs": [],
   "source": [
    "def get_metrics(y_test: pd.Series, \n",
    "                y_pred: np.ndarray, \n",
    "                y_score: np.ndarray, \n",
    "                name: str) -> pd.DataFrame:\n",
    "    \"\"\"\n",
    "    Cоздает pd.DataFrame с основными метриками\n",
    "    \"\"\"\n",
    "    df_metrics = pd.DataFrame()\n",
    "    \n",
    "    df_metrics['model'] = [name]\n",
    "    \n",
    "    # Основные метрики для задачи классификации\n",
    "    df_metrics['Accuracy'] = accuracy_score(y_test, y_pred)\n",
    "    df_metrics['ROC_AUC'] = roc_auc_score(y_test, y_score[:, 1])\n",
    "    df_metrics['Precision'] = precision_score(y_test, y_pred)\n",
    "    df_metrics['Recall'] = recall_score(y_test, y_pred)\n",
    "    df_metrics['f1'] = f1_score(y_test, y_pred)\n",
    "    df_metrics['Logloss'] = log_loss(y_test, y_score)\n",
    "    \n",
    "    return df_metrics"
   ]
  },
  {
   "cell_type": "code",
   "execution_count": 7,
   "id": "65148e78",
   "metadata": {},
   "outputs": [],
   "source": [
    "def check_overfitting(y_train,\n",
    "                      y_test,\n",
    "                      X_train=None,\n",
    "                      X_test=None,\n",
    "                      model=None,\n",
    "                      y_train_proba=None,\n",
    "                      y_test_proba=None):\n",
    "    \"\"\"\n",
    "    Проверяет на overfitting\n",
    "    \"\"\"\n",
    "    if model is None:\n",
    "        value_train = roc_auc_score(y_train, y_train_proba)\n",
    "        value_test = roc_auc_score(y_test, y_test_proba)\n",
    "    else:\n",
    "        y_pred_train = model.predict_proba(X_train)[:, 1]\n",
    "        y_pred_test = model.predict_proba(X_test)[:, 1]\n",
    "        value_train = roc_auc_score(y_train, y_pred_train)\n",
    "        value_test = roc_auc_score(y_test, y_pred_test)\n",
    "\n",
    "    print(f'roc_auc_score train: %.3f' % value_train)\n",
    "    print(f'roc_auc_score test: %.3f' % value_test)\n",
    "    print(f'delta = {(abs(value_train - value_test)/value_test*100):.1f} %')"
   ]
  },
  {
   "cell_type": "markdown",
   "id": "cf8d77f1",
   "metadata": {},
   "source": [
    "# Modeling"
   ]
  },
  {
   "cell_type": "code",
   "execution_count": 8,
   "id": "41990787",
   "metadata": {},
   "outputs": [],
   "source": [
    "X = df.drop(['user_id', 'age', 'is_male'], axis=1)\n",
    "y = df['is_male']\n",
    "\n",
    "X_train, X_test, y_train, y_test = train_test_split(X,\n",
    "                                                    y,\n",
    "                                                    test_size=0.2,\n",
    "                                                    shuffle=True,\n",
    "                                                    random_state=RAND)\n",
    "\n",
    "X_train_, X_val, y_train_, y_val = train_test_split(X_train,\n",
    "                                                    y_train,\n",
    "                                                    test_size=0.16,\n",
    "                                                    shuffle=True,\n",
    "                                                    random_state=RAND)"
   ]
  },
  {
   "cell_type": "markdown",
   "id": "d67b1cd7",
   "metadata": {},
   "source": [
    "## LightGBM"
   ]
  },
  {
   "cell_type": "code",
   "execution_count": 9,
   "id": "178c1c37",
   "metadata": {},
   "outputs": [
    {
     "data": {
      "text/html": [
       "<style>#sk-container-id-1 {color: black;background-color: white;}#sk-container-id-1 pre{padding: 0;}#sk-container-id-1 div.sk-toggleable {background-color: white;}#sk-container-id-1 label.sk-toggleable__label {cursor: pointer;display: block;width: 100%;margin-bottom: 0;padding: 0.3em;box-sizing: border-box;text-align: center;}#sk-container-id-1 label.sk-toggleable__label-arrow:before {content: \"▸\";float: left;margin-right: 0.25em;color: #696969;}#sk-container-id-1 label.sk-toggleable__label-arrow:hover:before {color: black;}#sk-container-id-1 div.sk-estimator:hover label.sk-toggleable__label-arrow:before {color: black;}#sk-container-id-1 div.sk-toggleable__content {max-height: 0;max-width: 0;overflow: hidden;text-align: left;background-color: #f0f8ff;}#sk-container-id-1 div.sk-toggleable__content pre {margin: 0.2em;color: black;border-radius: 0.25em;background-color: #f0f8ff;}#sk-container-id-1 input.sk-toggleable__control:checked~div.sk-toggleable__content {max-height: 200px;max-width: 100%;overflow: auto;}#sk-container-id-1 input.sk-toggleable__control:checked~label.sk-toggleable__label-arrow:before {content: \"▾\";}#sk-container-id-1 div.sk-estimator input.sk-toggleable__control:checked~label.sk-toggleable__label {background-color: #d4ebff;}#sk-container-id-1 div.sk-label input.sk-toggleable__control:checked~label.sk-toggleable__label {background-color: #d4ebff;}#sk-container-id-1 input.sk-hidden--visually {border: 0;clip: rect(1px 1px 1px 1px);clip: rect(1px, 1px, 1px, 1px);height: 1px;margin: -1px;overflow: hidden;padding: 0;position: absolute;width: 1px;}#sk-container-id-1 div.sk-estimator {font-family: monospace;background-color: #f0f8ff;border: 1px dotted black;border-radius: 0.25em;box-sizing: border-box;margin-bottom: 0.5em;}#sk-container-id-1 div.sk-estimator:hover {background-color: #d4ebff;}#sk-container-id-1 div.sk-parallel-item::after {content: \"\";width: 100%;border-bottom: 1px solid gray;flex-grow: 1;}#sk-container-id-1 div.sk-label:hover label.sk-toggleable__label {background-color: #d4ebff;}#sk-container-id-1 div.sk-serial::before {content: \"\";position: absolute;border-left: 1px solid gray;box-sizing: border-box;top: 0;bottom: 0;left: 50%;z-index: 0;}#sk-container-id-1 div.sk-serial {display: flex;flex-direction: column;align-items: center;background-color: white;padding-right: 0.2em;padding-left: 0.2em;position: relative;}#sk-container-id-1 div.sk-item {position: relative;z-index: 1;}#sk-container-id-1 div.sk-parallel {display: flex;align-items: stretch;justify-content: center;background-color: white;position: relative;}#sk-container-id-1 div.sk-item::before, #sk-container-id-1 div.sk-parallel-item::before {content: \"\";position: absolute;border-left: 1px solid gray;box-sizing: border-box;top: 0;bottom: 0;left: 50%;z-index: -1;}#sk-container-id-1 div.sk-parallel-item {display: flex;flex-direction: column;z-index: 1;position: relative;background-color: white;}#sk-container-id-1 div.sk-parallel-item:first-child::after {align-self: flex-end;width: 50%;}#sk-container-id-1 div.sk-parallel-item:last-child::after {align-self: flex-start;width: 50%;}#sk-container-id-1 div.sk-parallel-item:only-child::after {width: 0;}#sk-container-id-1 div.sk-dashed-wrapped {border: 1px dashed gray;margin: 0 0.4em 0.5em 0.4em;box-sizing: border-box;padding-bottom: 0.4em;background-color: white;}#sk-container-id-1 div.sk-label label {font-family: monospace;font-weight: bold;display: inline-block;line-height: 1.2em;}#sk-container-id-1 div.sk-label-container {text-align: center;}#sk-container-id-1 div.sk-container {/* jupyter's `normalize.less` sets `[hidden] { display: none; }` but bootstrap.min.css set `[hidden] { display: none !important; }` so we also need the `!important` here to be able to override the default hidden behavior on the sphinx rendered scikit-learn.org. See: https://github.com/scikit-learn/scikit-learn/issues/21755 */display: inline-block !important;position: relative;}#sk-container-id-1 div.sk-text-repr-fallback {display: none;}</style><div id=\"sk-container-id-1\" class=\"sk-top-container\"><div class=\"sk-text-repr-fallback\"><pre>LGBMClassifier(random_state=10)</pre><b>In a Jupyter environment, please rerun this cell to show the HTML representation or trust the notebook. <br />On GitHub, the HTML representation is unable to render, please try loading this page with nbviewer.org.</b></div><div class=\"sk-container\" hidden><div class=\"sk-item\"><div class=\"sk-estimator sk-toggleable\"><input class=\"sk-toggleable__control sk-hidden--visually\" id=\"sk-estimator-id-1\" type=\"checkbox\" checked><label for=\"sk-estimator-id-1\" class=\"sk-toggleable__label sk-toggleable__label-arrow\">LGBMClassifier</label><div class=\"sk-toggleable__content\"><pre>LGBMClassifier(random_state=10)</pre></div></div></div></div></div>"
      ],
      "text/plain": [
       "LGBMClassifier(random_state=10)"
      ]
     },
     "execution_count": 9,
     "metadata": {},
     "output_type": "execute_result"
    }
   ],
   "source": [
    "clf = LGBMClassifier(random_state=RAND)\n",
    "eval_set = [(X_val, y_val)]\n",
    "\n",
    "clf.fit(X_train_,\n",
    "        y_train_,\n",
    "        eval_metric=\"auc\",\n",
    "        eval_set=eval_set,\n",
    "        early_stopping_rounds=100,\n",
    "        verbose=False)"
   ]
  },
  {
   "cell_type": "code",
   "execution_count": 10,
   "id": "7a4aa19f",
   "metadata": {
    "scrolled": true
   },
   "outputs": [
    {
     "data": {
      "text/html": [
       "<div>\n",
       "<style scoped>\n",
       "    .dataframe tbody tr th:only-of-type {\n",
       "        vertical-align: middle;\n",
       "    }\n",
       "\n",
       "    .dataframe tbody tr th {\n",
       "        vertical-align: top;\n",
       "    }\n",
       "\n",
       "    .dataframe thead th {\n",
       "        text-align: right;\n",
       "    }\n",
       "</style>\n",
       "<table border=\"1\" class=\"dataframe\">\n",
       "  <thead>\n",
       "    <tr style=\"text-align: right;\">\n",
       "      <th></th>\n",
       "      <th>model</th>\n",
       "      <th>Accuracy</th>\n",
       "      <th>ROC_AUC</th>\n",
       "      <th>Precision</th>\n",
       "      <th>Recall</th>\n",
       "      <th>f1</th>\n",
       "      <th>Logloss</th>\n",
       "    </tr>\n",
       "  </thead>\n",
       "  <tbody>\n",
       "    <tr>\n",
       "      <th>0</th>\n",
       "      <td>LightTrain</td>\n",
       "      <td>0.853605</td>\n",
       "      <td>0.932076</td>\n",
       "      <td>0.850097</td>\n",
       "      <td>0.866615</td>\n",
       "      <td>0.858277</td>\n",
       "      <td>0.414676</td>\n",
       "    </tr>\n",
       "  </tbody>\n",
       "</table>\n",
       "</div>"
      ],
      "text/plain": [
       "        model  Accuracy   ROC_AUC  Precision    Recall        f1   Logloss\n",
       "0  LightTrain  0.853605  0.932076   0.850097  0.866615  0.858277  0.414676"
      ]
     },
     "execution_count": 10,
     "metadata": {},
     "output_type": "execute_result"
    }
   ],
   "source": [
    "y_pred = clf.predict(X_train_)\n",
    "y_score = clf.predict_proba(X_train_)\n",
    "metrics = get_metrics(y_train_,\n",
    "                      y_pred,\n",
    "                      y_score,\n",
    "                      name='LightTrain')\n",
    "metrics"
   ]
  },
  {
   "cell_type": "code",
   "execution_count": 11,
   "id": "62643f08",
   "metadata": {
    "scrolled": true
   },
   "outputs": [
    {
     "data": {
      "text/html": [
       "<div>\n",
       "<style scoped>\n",
       "    .dataframe tbody tr th:only-of-type {\n",
       "        vertical-align: middle;\n",
       "    }\n",
       "\n",
       "    .dataframe tbody tr th {\n",
       "        vertical-align: top;\n",
       "    }\n",
       "\n",
       "    .dataframe thead th {\n",
       "        text-align: right;\n",
       "    }\n",
       "</style>\n",
       "<table border=\"1\" class=\"dataframe\">\n",
       "  <thead>\n",
       "    <tr style=\"text-align: right;\">\n",
       "      <th></th>\n",
       "      <th>model</th>\n",
       "      <th>Accuracy</th>\n",
       "      <th>ROC_AUC</th>\n",
       "      <th>Precision</th>\n",
       "      <th>Recall</th>\n",
       "      <th>f1</th>\n",
       "      <th>Logloss</th>\n",
       "    </tr>\n",
       "  </thead>\n",
       "  <tbody>\n",
       "    <tr>\n",
       "      <th>0</th>\n",
       "      <td>LightTrain</td>\n",
       "      <td>0.853605</td>\n",
       "      <td>0.932076</td>\n",
       "      <td>0.850097</td>\n",
       "      <td>0.866615</td>\n",
       "      <td>0.858277</td>\n",
       "      <td>0.414676</td>\n",
       "    </tr>\n",
       "    <tr>\n",
       "      <th>0</th>\n",
       "      <td>LightTest</td>\n",
       "      <td>0.697547</td>\n",
       "      <td>0.786481</td>\n",
       "      <td>0.690610</td>\n",
       "      <td>0.704043</td>\n",
       "      <td>0.697262</td>\n",
       "      <td>0.551623</td>\n",
       "    </tr>\n",
       "  </tbody>\n",
       "</table>\n",
       "</div>"
      ],
      "text/plain": [
       "        model  Accuracy   ROC_AUC  Precision    Recall        f1   Logloss\n",
       "0  LightTrain  0.853605  0.932076   0.850097  0.866615  0.858277  0.414676\n",
       "0   LightTest  0.697547  0.786481   0.690610  0.704043  0.697262  0.551623"
      ]
     },
     "execution_count": 11,
     "metadata": {},
     "output_type": "execute_result"
    }
   ],
   "source": [
    "y_pred = clf.predict(X_test)\n",
    "y_score = clf.predict_proba(X_test)\n",
    "metrics = metrics.append(get_metrics(y_test, \n",
    "                                     y_pred, \n",
    "                                     y_score, \n",
    "                                     name='LightTest'))\n",
    "metrics"
   ]
  },
  {
   "cell_type": "code",
   "execution_count": 12,
   "id": "13c0957b",
   "metadata": {},
   "outputs": [
    {
     "name": "stdout",
     "output_type": "stream",
     "text": [
      "roc_auc_score train: 0.932\n",
      "roc_auc_score test: 0.786\n",
      "delta = 18.5 %\n"
     ]
    }
   ],
   "source": [
    "check_overfitting(y_train=y_train_, \n",
    "                  y_test=y_test, \n",
    "                  X_train=X_train_, \n",
    "                  X_test=X_test, \n",
    "                  model=clf)"
   ]
  },
  {
   "cell_type": "markdown",
   "id": "aff505a5",
   "metadata": {},
   "source": [
    "**Вывод:** На тренировочных данных LGBMClassifier в baseline показал хорошие результаты. однако на тестовых данных основные метрики значительно ухудшились, что говорит о присутствии переобучения. "
   ]
  },
  {
   "cell_type": "markdown",
   "id": "c470f660",
   "metadata": {},
   "source": [
    "## Catboost"
   ]
  },
  {
   "cell_type": "code",
   "execution_count": 13,
   "id": "448fb429",
   "metadata": {},
   "outputs": [
    {
     "data": {
      "text/plain": [
       "<catboost.core.CatBoostClassifier at 0x7f85e0024c70>"
      ]
     },
     "execution_count": 13,
     "metadata": {},
     "output_type": "execute_result"
    }
   ],
   "source": [
    "clf = CatBoostClassifier(random_state=RAND, eval_metric=\"AUC\")\n",
    "\n",
    "clf.fit(X_train_,\n",
    "        y_train_,\n",
    "        eval_set=eval_set,\n",
    "        early_stopping_rounds=100, \n",
    "        use_best_model=True,\n",
    "        verbose=False)"
   ]
  },
  {
   "cell_type": "code",
   "execution_count": 14,
   "id": "170c29ae",
   "metadata": {},
   "outputs": [
    {
     "data": {
      "text/html": [
       "<div>\n",
       "<style scoped>\n",
       "    .dataframe tbody tr th:only-of-type {\n",
       "        vertical-align: middle;\n",
       "    }\n",
       "\n",
       "    .dataframe tbody tr th {\n",
       "        vertical-align: top;\n",
       "    }\n",
       "\n",
       "    .dataframe thead th {\n",
       "        text-align: right;\n",
       "    }\n",
       "</style>\n",
       "<table border=\"1\" class=\"dataframe\">\n",
       "  <thead>\n",
       "    <tr style=\"text-align: right;\">\n",
       "      <th></th>\n",
       "      <th>model</th>\n",
       "      <th>Accuracy</th>\n",
       "      <th>ROC_AUC</th>\n",
       "      <th>Precision</th>\n",
       "      <th>Recall</th>\n",
       "      <th>f1</th>\n",
       "      <th>Logloss</th>\n",
       "    </tr>\n",
       "  </thead>\n",
       "  <tbody>\n",
       "    <tr>\n",
       "      <th>0</th>\n",
       "      <td>LightTrain</td>\n",
       "      <td>0.853605</td>\n",
       "      <td>0.932076</td>\n",
       "      <td>0.850097</td>\n",
       "      <td>0.866615</td>\n",
       "      <td>0.858277</td>\n",
       "      <td>0.414676</td>\n",
       "    </tr>\n",
       "    <tr>\n",
       "      <th>0</th>\n",
       "      <td>LightTest</td>\n",
       "      <td>0.697547</td>\n",
       "      <td>0.786481</td>\n",
       "      <td>0.690610</td>\n",
       "      <td>0.704043</td>\n",
       "      <td>0.697262</td>\n",
       "      <td>0.551623</td>\n",
       "    </tr>\n",
       "    <tr>\n",
       "      <th>0</th>\n",
       "      <td>CatTrain</td>\n",
       "      <td>0.874719</td>\n",
       "      <td>0.948916</td>\n",
       "      <td>0.874374</td>\n",
       "      <td>0.881765</td>\n",
       "      <td>0.878054</td>\n",
       "      <td>0.378393</td>\n",
       "    </tr>\n",
       "  </tbody>\n",
       "</table>\n",
       "</div>"
      ],
      "text/plain": [
       "        model  Accuracy   ROC_AUC  Precision    Recall        f1   Logloss\n",
       "0  LightTrain  0.853605  0.932076   0.850097  0.866615  0.858277  0.414676\n",
       "0   LightTest  0.697547  0.786481   0.690610  0.704043  0.697262  0.551623\n",
       "0    CatTrain  0.874719  0.948916   0.874374  0.881765  0.878054  0.378393"
      ]
     },
     "execution_count": 14,
     "metadata": {},
     "output_type": "execute_result"
    }
   ],
   "source": [
    "y_pred = clf.predict(X_train_)\n",
    "y_score = clf.predict_proba(X_train_)\n",
    "metrics = metrics.append(\n",
    "    get_metrics(y_train_, y_pred, y_score, name='CatTrain'))\n",
    "metrics"
   ]
  },
  {
   "cell_type": "code",
   "execution_count": 15,
   "id": "081a6849",
   "metadata": {},
   "outputs": [
    {
     "data": {
      "text/html": [
       "<div>\n",
       "<style scoped>\n",
       "    .dataframe tbody tr th:only-of-type {\n",
       "        vertical-align: middle;\n",
       "    }\n",
       "\n",
       "    .dataframe tbody tr th {\n",
       "        vertical-align: top;\n",
       "    }\n",
       "\n",
       "    .dataframe thead th {\n",
       "        text-align: right;\n",
       "    }\n",
       "</style>\n",
       "<table border=\"1\" class=\"dataframe\">\n",
       "  <thead>\n",
       "    <tr style=\"text-align: right;\">\n",
       "      <th></th>\n",
       "      <th>model</th>\n",
       "      <th>Accuracy</th>\n",
       "      <th>ROC_AUC</th>\n",
       "      <th>Precision</th>\n",
       "      <th>Recall</th>\n",
       "      <th>f1</th>\n",
       "      <th>Logloss</th>\n",
       "    </tr>\n",
       "  </thead>\n",
       "  <tbody>\n",
       "    <tr>\n",
       "      <th>0</th>\n",
       "      <td>LightTrain</td>\n",
       "      <td>0.853605</td>\n",
       "      <td>0.932076</td>\n",
       "      <td>0.850097</td>\n",
       "      <td>0.866615</td>\n",
       "      <td>0.858277</td>\n",
       "      <td>0.414676</td>\n",
       "    </tr>\n",
       "    <tr>\n",
       "      <th>0</th>\n",
       "      <td>LightTest</td>\n",
       "      <td>0.697547</td>\n",
       "      <td>0.786481</td>\n",
       "      <td>0.690610</td>\n",
       "      <td>0.704043</td>\n",
       "      <td>0.697262</td>\n",
       "      <td>0.551623</td>\n",
       "    </tr>\n",
       "    <tr>\n",
       "      <th>0</th>\n",
       "      <td>CatTrain</td>\n",
       "      <td>0.874719</td>\n",
       "      <td>0.948916</td>\n",
       "      <td>0.874374</td>\n",
       "      <td>0.881765</td>\n",
       "      <td>0.878054</td>\n",
       "      <td>0.378393</td>\n",
       "    </tr>\n",
       "    <tr>\n",
       "      <th>0</th>\n",
       "      <td>CatTest</td>\n",
       "      <td>0.715094</td>\n",
       "      <td>0.802328</td>\n",
       "      <td>0.706845</td>\n",
       "      <td>0.724638</td>\n",
       "      <td>0.715631</td>\n",
       "      <td>0.535439</td>\n",
       "    </tr>\n",
       "  </tbody>\n",
       "</table>\n",
       "</div>"
      ],
      "text/plain": [
       "        model  Accuracy   ROC_AUC  Precision    Recall        f1   Logloss\n",
       "0  LightTrain  0.853605  0.932076   0.850097  0.866615  0.858277  0.414676\n",
       "0   LightTest  0.697547  0.786481   0.690610  0.704043  0.697262  0.551623\n",
       "0    CatTrain  0.874719  0.948916   0.874374  0.881765  0.878054  0.378393\n",
       "0     CatTest  0.715094  0.802328   0.706845  0.724638  0.715631  0.535439"
      ]
     },
     "execution_count": 15,
     "metadata": {},
     "output_type": "execute_result"
    }
   ],
   "source": [
    "y_pred = clf.predict(X_test)\n",
    "y_score = clf.predict_proba(X_test)\n",
    "metrics = metrics.append(\n",
    "    get_metrics(y_test, y_pred, y_score, name='CatTest'))\n",
    "metrics"
   ]
  },
  {
   "cell_type": "code",
   "execution_count": 16,
   "id": "af42a21f",
   "metadata": {},
   "outputs": [
    {
     "name": "stdout",
     "output_type": "stream",
     "text": [
      "roc_auc_score train: 0.949\n",
      "roc_auc_score test: 0.802\n",
      "delta = 18.3 %\n"
     ]
    }
   ],
   "source": [
    "check_overfitting(y_train=y_train_, \n",
    "                  y_test=y_test, \n",
    "                  X_train=X_train_, \n",
    "                  X_test=X_test, \n",
    "                  model=clf)"
   ]
  },
  {
   "cell_type": "markdown",
   "id": "04229e5a",
   "metadata": {},
   "source": [
    "**Вывод:** На тренировочных данных CatBoostClassifier в baseline отработал лучше, чем LGBMClassifier. Но также присутствует достаточно сильное переобучение. \n",
    "Для дальнейшей работы, я выбираю CatBoostClassifier и буду улучшать характеристики полученные им на выходе. "
   ]
  },
  {
   "cell_type": "markdown",
   "id": "4944515e",
   "metadata": {},
   "source": [
    "# Tuning"
   ]
  },
  {
   "cell_type": "code",
   "execution_count": 17,
   "id": "ea383e0e",
   "metadata": {},
   "outputs": [
    {
     "name": "stdout",
     "output_type": "stream",
     "text": [
      "\n",
      "bestTest = 0.7842724225\n",
      "bestIteration = 657\n",
      "\n",
      "Metric AUC is not calculated on train by default. To calculate this metric on train, add hints=skip_train~false to metric parameters.\n",
      "\n",
      "bestTest = 0.8077205856\n",
      "bestIteration = 397\n",
      "\n",
      "Metric AUC is not calculated on train by default. To calculate this metric on train, add hints=skip_train~false to metric parameters.\n",
      "\n",
      "bestTest = 0.8051721289\n",
      "bestIteration = 979\n",
      "\n",
      "Metric AUC is not calculated on train by default. To calculate this metric on train, add hints=skip_train~false to metric parameters.\n",
      "\n",
      "bestTest = 0.7770220608\n",
      "bestIteration = 999\n",
      "\n",
      "Metric AUC is not calculated on train by default. To calculate this metric on train, add hints=skip_train~false to metric parameters.\n",
      "\n",
      "bestTest = 0.8108067084\n",
      "bestIteration = 930\n",
      "\n",
      "Metric AUC is not calculated on train by default. To calculate this metric on train, add hints=skip_train~false to metric parameters.\n",
      "Training on fold [0/3]\n",
      "\n",
      "bestTest = 0.8056508806\n",
      "bestIteration = 778\n",
      "\n",
      "Training on fold [1/3]\n",
      "\n",
      "bestTest = 0.7891141108\n",
      "bestIteration = 998\n",
      "\n",
      "Training on fold [2/3]\n",
      "\n",
      "bestTest = 0.8012200944\n",
      "bestIteration = 626\n",
      "\n"
     ]
    }
   ],
   "source": [
    "grid = {\n",
    "    'n_estimators': [1000],\n",
    "    'learning_rate': np.linspace(0.01, 0.1, 5),\n",
    "    'boosting_type' : ['Ordered', 'Plain'],\n",
    "    'max_depth': list(range(3, 12)),\n",
    "    'l2_leaf_reg': np.logspace(-5, 2, 5),\n",
    "    'random_strength': list(range(10, 50, 5)),\n",
    "    'bootstrap_type': [\"Bayesian\", \"Bernoulli\", \"MVS\", \"No\"],\n",
    "    'border_count': [128, 254],\n",
    "    'grow_policy': [\"SymmetricTree\", \"Depthwise\", \"Lossguide\"],\n",
    "    'random_state': [RAND]\n",
    "}\n",
    "\n",
    "model = CatBoostClassifier(eval_metric=\"AUC\", silent=True)\n",
    "grid_search_result = model.randomized_search(grid,\n",
    "                                             X=X_train,\n",
    "                                             y=y_train, \n",
    "                                             verbose=False)"
   ]
  },
  {
   "cell_type": "code",
   "execution_count": 18,
   "id": "e2b1d91b",
   "metadata": {},
   "outputs": [],
   "source": [
    "cat_best = grid_search_result['params']"
   ]
  },
  {
   "cell_type": "code",
   "execution_count": 19,
   "id": "a8cd9033",
   "metadata": {},
   "outputs": [
    {
     "data": {
      "text/plain": [
       "<catboost.core.CatBoostClassifier at 0x7f85e00249d0>"
      ]
     },
     "execution_count": 19,
     "metadata": {},
     "output_type": "execute_result"
    }
   ],
   "source": [
    "cat_grid = CatBoostClassifier(**cat_best,\n",
    "                             eval_metric='AUC')\n",
    "cat_grid.fit(X_train_,\n",
    "             y_train_,\n",
    "             eval_set=eval_set,\n",
    "             early_stopping_rounds=100,\n",
    "             verbose=False)"
   ]
  },
  {
   "cell_type": "code",
   "execution_count": 20,
   "id": "49ce91f6",
   "metadata": {
    "scrolled": true
   },
   "outputs": [
    {
     "data": {
      "text/html": [
       "<div>\n",
       "<style scoped>\n",
       "    .dataframe tbody tr th:only-of-type {\n",
       "        vertical-align: middle;\n",
       "    }\n",
       "\n",
       "    .dataframe tbody tr th {\n",
       "        vertical-align: top;\n",
       "    }\n",
       "\n",
       "    .dataframe thead th {\n",
       "        text-align: right;\n",
       "    }\n",
       "</style>\n",
       "<table border=\"1\" class=\"dataframe\">\n",
       "  <thead>\n",
       "    <tr style=\"text-align: right;\">\n",
       "      <th></th>\n",
       "      <th>model</th>\n",
       "      <th>Accuracy</th>\n",
       "      <th>ROC_AUC</th>\n",
       "      <th>Precision</th>\n",
       "      <th>Recall</th>\n",
       "      <th>f1</th>\n",
       "      <th>Logloss</th>\n",
       "    </tr>\n",
       "  </thead>\n",
       "  <tbody>\n",
       "    <tr>\n",
       "      <th>0</th>\n",
       "      <td>LightTrain</td>\n",
       "      <td>0.853605</td>\n",
       "      <td>0.932076</td>\n",
       "      <td>0.850097</td>\n",
       "      <td>0.866615</td>\n",
       "      <td>0.858277</td>\n",
       "      <td>0.414676</td>\n",
       "    </tr>\n",
       "    <tr>\n",
       "      <th>0</th>\n",
       "      <td>LightTest</td>\n",
       "      <td>0.697547</td>\n",
       "      <td>0.786481</td>\n",
       "      <td>0.690610</td>\n",
       "      <td>0.704043</td>\n",
       "      <td>0.697262</td>\n",
       "      <td>0.551623</td>\n",
       "    </tr>\n",
       "    <tr>\n",
       "      <th>0</th>\n",
       "      <td>CatTrain</td>\n",
       "      <td>0.874719</td>\n",
       "      <td>0.948916</td>\n",
       "      <td>0.874374</td>\n",
       "      <td>0.881765</td>\n",
       "      <td>0.878054</td>\n",
       "      <td>0.378393</td>\n",
       "    </tr>\n",
       "    <tr>\n",
       "      <th>0</th>\n",
       "      <td>CatTest</td>\n",
       "      <td>0.715094</td>\n",
       "      <td>0.802328</td>\n",
       "      <td>0.706845</td>\n",
       "      <td>0.724638</td>\n",
       "      <td>0.715631</td>\n",
       "      <td>0.535439</td>\n",
       "    </tr>\n",
       "    <tr>\n",
       "      <th>0</th>\n",
       "      <td>CatGrid</td>\n",
       "      <td>0.717736</td>\n",
       "      <td>0.805724</td>\n",
       "      <td>0.708210</td>\n",
       "      <td>0.730359</td>\n",
       "      <td>0.719114</td>\n",
       "      <td>0.537844</td>\n",
       "    </tr>\n",
       "  </tbody>\n",
       "</table>\n",
       "</div>"
      ],
      "text/plain": [
       "        model  Accuracy   ROC_AUC  Precision    Recall        f1   Logloss\n",
       "0  LightTrain  0.853605  0.932076   0.850097  0.866615  0.858277  0.414676\n",
       "0   LightTest  0.697547  0.786481   0.690610  0.704043  0.697262  0.551623\n",
       "0    CatTrain  0.874719  0.948916   0.874374  0.881765  0.878054  0.378393\n",
       "0     CatTest  0.715094  0.802328   0.706845  0.724638  0.715631  0.535439\n",
       "0     CatGrid  0.717736  0.805724   0.708210  0.730359  0.719114  0.537844"
      ]
     },
     "execution_count": 20,
     "metadata": {},
     "output_type": "execute_result"
    }
   ],
   "source": [
    "y_pred = cat_grid.predict(X_test)\n",
    "y_score = cat_grid.predict_proba(X_test)\n",
    "metrics = metrics.append(\n",
    "    get_metrics(y_test, y_pred, y_score, name='CatGrid'))\n",
    "metrics"
   ]
  },
  {
   "cell_type": "code",
   "execution_count": 21,
   "id": "9b6d0954",
   "metadata": {},
   "outputs": [
    {
     "name": "stdout",
     "output_type": "stream",
     "text": [
      "roc_auc_score train: 0.877\n",
      "roc_auc_score test: 0.806\n",
      "delta = 8.9 %\n"
     ]
    }
   ],
   "source": [
    "check_overfitting(y_train=y_train_, \n",
    "                  y_test=y_test, \n",
    "                  X_train=X_train_, \n",
    "                  X_test=X_test, \n",
    "                  model=cat_grid)"
   ]
  },
  {
   "cell_type": "markdown",
   "id": "ecf36f3a",
   "metadata": {},
   "source": [
    "**Вывод:** После подбора гиперпараметров все основные метрики, включая ROC_AUC улучшились. Но переобучение по прежнему пресутствует. "
   ]
  },
  {
   "cell_type": "markdown",
   "id": "c9fdc991",
   "metadata": {},
   "source": [
    "# Holdout"
   ]
  },
  {
   "cell_type": "code",
   "execution_count": 22,
   "id": "2a786cdc",
   "metadata": {},
   "outputs": [],
   "source": [
    "# ваш код\n",
    "def cross_validation_cat(X_train: pd.DataFrame,\n",
    "                         y_train: pd.Series,\n",
    "                         X_test: pd.DataFrame,\n",
    "                         y_test: pd.Series,\n",
    "                         clf,\n",
    "                         params: dict,\n",
    "                         cat_features: list = None,\n",
    "                         eval_metric: str = None,\n",
    "                         early_stop: bool = False,\n",
    "                         early_stopping_rounds: int = 100,\n",
    "                         num_folds: int = 5,\n",
    "                         random_state: int = 10,\n",
    "                         shuffle: bool = True):\n",
    "    \"\"\"\n",
    "    Получает результаты при помощи кросс-валидации для задачи Классиификации\n",
    "    \"\"\"\n",
    "    folds = StratifiedKFold(n_splits=num_folds, \n",
    "                            random_state=random_state, \n",
    "                            shuffle=shuffle)\n",
    "    score_oof = []\n",
    "    pred_test = []\n",
    "    pred_prob_test = []\n",
    "\n",
    "\n",
    "    for fold, (train_index, \n",
    "               test_index) in enumerate(folds.split(X_train, y_train)):\n",
    "        X_train_, X_val = X_train.iloc[train_index], X_train.iloc[test_index]\n",
    "        y_train_, y_val = y_train.iloc[train_index], y_train.iloc[test_index]\n",
    "\n",
    "        model = clf(**params)\n",
    "\n",
    "        if early_stop == True:\n",
    "            if eval_metric is None:\n",
    "                model.fit(X_train_,\n",
    "                          y_train_,\n",
    "                          eval_set=[(X_val, y_val)],\n",
    "                          cat_features=cat_features,\n",
    "                          silent=True,\n",
    "                          early_stopping_rounds=early_stopping_rounds)\n",
    "            else:\n",
    "                model.fit(X_train_,\n",
    "                          y_train_,\n",
    "                          eval_set=[(X_val, y_val)],\n",
    "                          eval_metric=eval_metric,\n",
    "                          silent=True,\n",
    "                          cat_features=cat_features,\n",
    "                          early_stopping_rounds=early_stopping_rounds)\n",
    "        else:\n",
    "            model.fit(X_train_, y_train_, cat_features=cat_features)\n",
    "\n",
    "        y_pred_val = model.predict_proba(X_val)[:, 1]\n",
    "        y_pred = model.predict(X_test)\n",
    "        y_pred_prob = model.predict_proba(X_test)\n",
    "\n",
    "        print(\n",
    "            \"Fold:\", fold + 1,\n",
    "            \"AUC SCORE %.3f\" % roc_auc_score(y_val, y_pred_val))\n",
    "        print(\"---\")\n",
    "\n",
    "        # oof list\n",
    "        score_oof.append(roc_auc_score(y_val, y_pred_val))\n",
    "        # holdout list\n",
    "        pred_test.append(y_pred)\n",
    "        pred_prob_test.append(y_pred_prob)\n",
    "\n",
    "    return score_oof, pred_test, pred_prob_test"
   ]
  },
  {
   "cell_type": "code",
   "execution_count": 23,
   "id": "983c9d4c",
   "metadata": {
    "scrolled": true
   },
   "outputs": [
    {
     "name": "stdout",
     "output_type": "stream",
     "text": [
      "Fold: 1 AUC SCORE 0.811\n",
      "---\n",
      "Fold: 2 AUC SCORE 0.815\n",
      "---\n",
      "Fold: 3 AUC SCORE 0.791\n",
      "---\n",
      "Fold: 4 AUC SCORE 0.805\n",
      "---\n",
      "Fold: 5 AUC SCORE 0.797\n",
      "---\n"
     ]
    }
   ],
   "source": [
    "score_oof, pred_test, pred_prob_test = cross_validation_cat(\n",
    "    X_train,\n",
    "    y_train,\n",
    "    X_test,\n",
    "    y_test,\n",
    "    early_stop=True,\n",
    "    early_stopping_rounds=100,\n",
    "    num_folds=N_FOLDS,\n",
    "    random_state=RAND,\n",
    "    clf=CatBoostClassifier,\n",
    "    params=cat_best)"
   ]
  },
  {
   "cell_type": "code",
   "execution_count": 24,
   "id": "52bf2dbe",
   "metadata": {},
   "outputs": [
    {
     "name": "stdout",
     "output_type": "stream",
     "text": [
      "ROC-AUC mean OOF = 0.803802800791982\n",
      "ROC-AUC HOLDOUT = 0.8105923110533095\n"
     ]
    }
   ],
   "source": [
    "fin_test_pred = stats.mode(np.column_stack(pred_test), axis=1)[0]\n",
    "fin_test_pred_prob = np.mean(pred_prob_test, axis=0)\n",
    "\n",
    "print(f'ROC-AUC mean OOF = {np.mean(score_oof)}')\n",
    "print(f'ROC-AUC HOLDOUT = {roc_auc_score(y_test, fin_test_pred_prob[:, 1])}')"
   ]
  },
  {
   "cell_type": "markdown",
   "id": "349dbd09",
   "metadata": {},
   "source": [
    "**Вывод:** После обучения алгоритма с использованием кросс-валидации, ROC-AUC на тестовой выборке стал еще лучше. "
   ]
  },
  {
   "cell_type": "code",
   "execution_count": 25,
   "id": "ee49d4ba",
   "metadata": {},
   "outputs": [
    {
     "data": {
      "text/html": [
       "<div>\n",
       "<style scoped>\n",
       "    .dataframe tbody tr th:only-of-type {\n",
       "        vertical-align: middle;\n",
       "    }\n",
       "\n",
       "    .dataframe tbody tr th {\n",
       "        vertical-align: top;\n",
       "    }\n",
       "\n",
       "    .dataframe thead th {\n",
       "        text-align: right;\n",
       "    }\n",
       "</style>\n",
       "<table border=\"1\" class=\"dataframe\">\n",
       "  <thead>\n",
       "    <tr style=\"text-align: right;\">\n",
       "      <th></th>\n",
       "      <th>model</th>\n",
       "      <th>Accuracy</th>\n",
       "      <th>ROC_AUC</th>\n",
       "      <th>Precision</th>\n",
       "      <th>Recall</th>\n",
       "      <th>f1</th>\n",
       "      <th>Logloss</th>\n",
       "    </tr>\n",
       "  </thead>\n",
       "  <tbody>\n",
       "    <tr>\n",
       "      <th>0</th>\n",
       "      <td>LightTrain</td>\n",
       "      <td>0.853605</td>\n",
       "      <td>0.932076</td>\n",
       "      <td>0.850097</td>\n",
       "      <td>0.866615</td>\n",
       "      <td>0.858277</td>\n",
       "      <td>0.414676</td>\n",
       "    </tr>\n",
       "    <tr>\n",
       "      <th>0</th>\n",
       "      <td>LightTest</td>\n",
       "      <td>0.697547</td>\n",
       "      <td>0.786481</td>\n",
       "      <td>0.690610</td>\n",
       "      <td>0.704043</td>\n",
       "      <td>0.697262</td>\n",
       "      <td>0.551623</td>\n",
       "    </tr>\n",
       "    <tr>\n",
       "      <th>0</th>\n",
       "      <td>CatTrain</td>\n",
       "      <td>0.874719</td>\n",
       "      <td>0.948916</td>\n",
       "      <td>0.874374</td>\n",
       "      <td>0.881765</td>\n",
       "      <td>0.878054</td>\n",
       "      <td>0.378393</td>\n",
       "    </tr>\n",
       "    <tr>\n",
       "      <th>0</th>\n",
       "      <td>CatTest</td>\n",
       "      <td>0.715094</td>\n",
       "      <td>0.802328</td>\n",
       "      <td>0.706845</td>\n",
       "      <td>0.724638</td>\n",
       "      <td>0.715631</td>\n",
       "      <td>0.535439</td>\n",
       "    </tr>\n",
       "    <tr>\n",
       "      <th>0</th>\n",
       "      <td>CatGrid</td>\n",
       "      <td>0.717736</td>\n",
       "      <td>0.805724</td>\n",
       "      <td>0.708210</td>\n",
       "      <td>0.730359</td>\n",
       "      <td>0.719114</td>\n",
       "      <td>0.537844</td>\n",
       "    </tr>\n",
       "    <tr>\n",
       "      <th>0</th>\n",
       "      <td>CatGridVal</td>\n",
       "      <td>0.723208</td>\n",
       "      <td>0.810592</td>\n",
       "      <td>0.713178</td>\n",
       "      <td>0.736842</td>\n",
       "      <td>0.724817</td>\n",
       "      <td>0.530456</td>\n",
       "    </tr>\n",
       "  </tbody>\n",
       "</table>\n",
       "</div>"
      ],
      "text/plain": [
       "        model  Accuracy   ROC_AUC  Precision    Recall        f1   Logloss\n",
       "0  LightTrain  0.853605  0.932076   0.850097  0.866615  0.858277  0.414676\n",
       "0   LightTest  0.697547  0.786481   0.690610  0.704043  0.697262  0.551623\n",
       "0    CatTrain  0.874719  0.948916   0.874374  0.881765  0.878054  0.378393\n",
       "0     CatTest  0.715094  0.802328   0.706845  0.724638  0.715631  0.535439\n",
       "0     CatGrid  0.717736  0.805724   0.708210  0.730359  0.719114  0.537844\n",
       "0  CatGridVal  0.723208  0.810592   0.713178  0.736842  0.724817  0.530456"
      ]
     },
     "execution_count": 25,
     "metadata": {},
     "output_type": "execute_result"
    }
   ],
   "source": [
    "metrics = metrics.append(\n",
    "    get_metrics(y_test, fin_test_pred, fin_test_pred_prob, name='CatGridVal'))\n",
    "metrics"
   ]
  },
  {
   "cell_type": "markdown",
   "id": "c8c4ab33",
   "metadata": {},
   "source": [
    "**Вывод:** После проделанных манипуляций, метрики, по сравнению с Baseline, улучшились. "
   ]
  },
  {
   "cell_type": "markdown",
   "id": "7704ff56",
   "metadata": {},
   "source": [
    "# Stacking"
   ]
  },
  {
   "cell_type": "code",
   "execution_count": 26,
   "id": "13ce08b9",
   "metadata": {},
   "outputs": [],
   "source": [
    "meta_X = pd.DataFrame()\n",
    "meta_X_test = pd.DataFrame()"
   ]
  },
  {
   "cell_type": "code",
   "execution_count": 27,
   "id": "e5aa8931",
   "metadata": {},
   "outputs": [],
   "source": [
    "def crossval_predict(model: str,\n",
    "                     X_train: pd.DataFrame, \n",
    "                     y_train: pd.Series, \n",
    "                     X_test: pd.DataFrame, \n",
    "                     y_test: pd.Series,\n",
    "                     name: str, \n",
    "                     best_param=None) -> pd.DataFrame:\n",
    "    \"\"\"\n",
    "    Получает новые мета-признаки при помощи кросс-валидации\n",
    "    \"\"\"\n",
    "    folds = StratifiedKFold(n_splits=N_FOLDS)\n",
    "    pred_val = []\n",
    "    pred_prob_val = []\n",
    "    \n",
    "    for fold, (train_index, test_index) in enumerate(folds.split(X_train, y_train)):\n",
    "        X_train_, X_val = X_train.iloc[train_index], X_train.iloc[test_index]\n",
    "        y_train_, y_val = y_train.iloc[train_index], y_train.iloc[test_index]\n",
    "        if model == 'LGBMClassifier':\n",
    "            if best_param == None:\n",
    "                clf = LGBMClassifier(random_state=RAND)\n",
    "                clf.fit(X_train_,\n",
    "                        y_train_, \n",
    "                        eval_metric=\"auc\", \n",
    "                        eval_set=[(X_val, y_val)], \n",
    "                        verbose=False,\n",
    "                        early_stopping_rounds=100)\n",
    "            else:\n",
    "                clf = LGBMClassifier(**best_param)\n",
    "                clf.fit(X_train_,\n",
    "                        y_train_, \n",
    "                        eval_metric=\"auc\", \n",
    "                        eval_set=[(X_val, y_val)], \n",
    "                        verbose=False, \n",
    "                        early_stopping_rounds=100)\n",
    "        elif model == 'CatBoostClassifier': \n",
    "            if best_param == None:\n",
    "                clf = CatBoostClassifier(random_state=RAND, eval_metric=\"AUC\")\n",
    "                clf.fit(X_train_,\n",
    "                        y_train_,\n",
    "                        eval_set=[(X_val, y_val)], \n",
    "                        use_best_model=True, \n",
    "                        silent=True,\n",
    "                        early_stopping_rounds=100)\n",
    "            else:\n",
    "                clf = CatBoostClassifier(**best_param, eval_metric=\"AUC\")\n",
    "                clf.fit(X_train_,\n",
    "                        y_train_,\n",
    "                        eval_set=[(X_val, y_val)], \n",
    "                        use_best_model=True, \n",
    "                        silent=True, \n",
    "                        early_stopping_rounds=100)\n",
    "        else:\n",
    "            clf.fit(X_train_, y_train_)\n",
    "            \n",
    "        y_pred_val = clf.predict(X_val)\n",
    "        y_pred_prob_val = clf.predict_proba(X_val)\n",
    "\n",
    "        print(\"Fold:\", fold + 1, \n",
    "              \"ROC-AUC SCORE %.3f\" % roc_auc_score(y_val, y_pred_prob_val[:, 1]))\n",
    "        print(\"---\")\n",
    "\n",
    "        # holdout list\n",
    "        pred_val.append(y_pred_val)\n",
    "        pred_prob_val.append(y_pred_prob_val)\n",
    "\n",
    "    if model == 'CatBoostClassifier':\n",
    "        clf.fit(X_train, y_train, silent=True)\n",
    "    else:\n",
    "        clf.fit(X_train, y_train)\n",
    "    \n",
    "    meta_X[name] = np.concatenate(pred_prob_val)[:,1]\n",
    "    meta_X_test[name] = clf.predict_proba(X_test)[:,1]\n",
    "            \n",
    "    return meta_X, meta_X_test"
   ]
  },
  {
   "cell_type": "markdown",
   "id": "73ef15b7",
   "metadata": {},
   "source": [
    "## LightGBM baseline"
   ]
  },
  {
   "cell_type": "code",
   "execution_count": 28,
   "id": "6f616fed",
   "metadata": {},
   "outputs": [
    {
     "name": "stdout",
     "output_type": "stream",
     "text": [
      "Fold: 1 ROC-AUC SCORE 0.797\n",
      "---\n",
      "Fold: 2 ROC-AUC SCORE 0.787\n",
      "---\n",
      "Fold: 3 ROC-AUC SCORE 0.790\n",
      "---\n",
      "Fold: 4 ROC-AUC SCORE 0.794\n",
      "---\n",
      "Fold: 5 ROC-AUC SCORE 0.794\n",
      "---\n"
     ]
    }
   ],
   "source": [
    "meta_X, meta_X_test = crossval_predict(model='LGBMClassifier', \n",
    "                                       X_train=X_train, \n",
    "                                       y_train=y_train, \n",
    "                                       X_test=X_test, \n",
    "                                       y_test=y_test, \n",
    "                                       name='lgb_1')"
   ]
  },
  {
   "cell_type": "markdown",
   "id": "556fecc1",
   "metadata": {},
   "source": [
    "## LightGBM tuning 1"
   ]
  },
  {
   "cell_type": "code",
   "execution_count": 29,
   "id": "35714bf6",
   "metadata": {},
   "outputs": [],
   "source": [
    "def objective_lgb_1(trial, X, y, N_FOLDS, random_state):\n",
    "    lgb_params = {\n",
    "        \"n_estimators\": trial.suggest_categorical(\"n_estimators\", [1000]),\n",
    "        \"learning_rate\": trial.suggest_categorical(\"learning_rate\", [0.021633553993414788]),\n",
    "        #\"learning_rate\": trial.suggest_float(\"learning_rate\", 0.001, 0.3, log=True),\n",
    "        \"num_leaves\": trial.suggest_int(\"num_leaves\", 20, 3000, step=20),\n",
    "        \"max_depth\": trial.suggest_int(\"max_depth\", 3, 12),\n",
    "        \"min_child_samples\": trial.suggest_int(\"min_child_samples\", 100, 70000, step=100),\n",
    "        \"reg_alpha\": trial.suggest_int(\"reg_alpha\", 0, 100),\n",
    "        \"reg_lambda\": trial.suggest_int(\"reg_lambda\", 0, 100),\n",
    "        \"min_split_gain\": trial.suggest_int(\"min_split_gain\", 0, 20),\n",
    "        \"subsample\": trial.suggest_float(\"subsample\", 0.2, 1.0),\n",
    "        \"subsample_freq\": trial.suggest_categorical(\"subsample_freq\", [1]),\n",
    "        \"colsample_bytree\": trial.suggest_float(\"colsample_bytree\", 0.2, 1.0),\n",
    "        \"random_state\": trial.suggest_categorical(\"random_state\", [random_state])\n",
    "    }\n",
    "    \n",
    "    cv = StratifiedKFold(n_splits=N_FOLDS, shuffle=True, random_state=RAND)\n",
    "\n",
    "    cv_predicts = np.empty(N_FOLDS)\n",
    "    for idx, (train_idx, test_idx) in enumerate(cv.split(X, y)):\n",
    "        X_train, X_test = X.iloc[train_idx], X.iloc[test_idx]\n",
    "        y_train, y_test = y.iloc[train_idx], y.iloc[test_idx]\n",
    "\n",
    "        pruning_callback = optuna.integration.LightGBMPruningCallback(\n",
    "            trial, \"auc\")\n",
    "        model = LGBMClassifier(**lgb_params)\n",
    "        model.fit(X_train,\n",
    "                  y_train,\n",
    "                  eval_set=[(X_test, y_test)],\n",
    "                  eval_metric=\"auc\",\n",
    "                  early_stopping_rounds=100,\n",
    "                  callbacks=[pruning_callback],\n",
    "                  verbose=False)\n",
    "\n",
    "        preds = model.predict_proba(X_test)[:, 1]\n",
    "        cv_predicts[idx] = roc_auc_score(y_test, preds)\n",
    "\n",
    "    return np.mean(cv_predicts)"
   ]
  },
  {
   "cell_type": "code",
   "execution_count": 30,
   "id": "442339c9",
   "metadata": {},
   "outputs": [
    {
     "name": "stderr",
     "output_type": "stream",
     "text": [
      "\u001b[32m[I 2023-04-16 17:01:43,870]\u001b[0m A new study created in memory with name: tun_1\u001b[0m\n"
     ]
    },
    {
     "data": {
      "application/vnd.jupyter.widget-view+json": {
       "model_id": "fdca0ef67a2d4833aaca422b47222db8",
       "version_major": 2,
       "version_minor": 0
      },
      "text/plain": [
       "  0%|          | 0/20 [00:00<?, ?it/s]"
      ]
     },
     "metadata": {},
     "output_type": "display_data"
    }
   ],
   "source": [
    "study_lgb_1 = optuna.create_study(direction=\"maximize\", study_name=\"tun_1\")\n",
    "func = lambda trial: objective_lgb_1(trial, \n",
    "                                     X_train, \n",
    "                                     y_train, \n",
    "                                     N_FOLDS=N_FOLDS, \n",
    "                                     random_state=RAND)\n",
    "optuna.logging.set_verbosity(optuna.logging.WARNING)\n",
    "study_lgb_1.optimize(func, n_trials=20, show_progress_bar=True)"
   ]
  },
  {
   "cell_type": "code",
   "execution_count": 31,
   "id": "77b4dd0b",
   "metadata": {},
   "outputs": [
    {
     "name": "stdout",
     "output_type": "stream",
     "text": [
      "Fold: 1 ROC-AUC SCORE 0.772\n",
      "---\n",
      "Fold: 2 ROC-AUC SCORE 0.773\n",
      "---\n",
      "Fold: 3 ROC-AUC SCORE 0.776\n",
      "---\n",
      "Fold: 4 ROC-AUC SCORE 0.778\n",
      "---\n",
      "Fold: 5 ROC-AUC SCORE 0.776\n",
      "---\n"
     ]
    }
   ],
   "source": [
    "meta_X, meta_X_test = crossval_predict(model='LGBMClassifier', \n",
    "                                       X_train=X_train, \n",
    "                                       y_train=y_train, \n",
    "                                       X_test=X_test, \n",
    "                                       y_test=y_test, \n",
    "                                       name='lgb_2', \n",
    "                                       best_param=study_lgb_1.best_params)"
   ]
  },
  {
   "cell_type": "markdown",
   "id": "978e34a3",
   "metadata": {},
   "source": [
    "## LightGBM tuning 2"
   ]
  },
  {
   "cell_type": "code",
   "execution_count": 32,
   "id": "888594ba",
   "metadata": {},
   "outputs": [
    {
     "data": {
      "application/vnd.jupyter.widget-view+json": {
       "model_id": "38c74049bc6048f59e0810f65c65c9f1",
       "version_major": 2,
       "version_minor": 0
      },
      "text/plain": [
       "  0%|          | 0/20 [00:00<?, ?it/s]"
      ]
     },
     "metadata": {},
     "output_type": "display_data"
    }
   ],
   "source": [
    "study_lgb_2 = optuna.create_study(direction=\"maximize\", study_name=\"tun_2\")\n",
    "func = lambda trial: objective_lgb_1(trial, \n",
    "                                     X_train, \n",
    "                                     y_train, \n",
    "                                     N_FOLDS=N_FOLDS, \n",
    "                                     random_state=RAND)\n",
    "optuna.logging.set_verbosity(optuna.logging.WARNING)\n",
    "study_lgb_2.optimize(func, n_trials=20, show_progress_bar=True)"
   ]
  },
  {
   "cell_type": "code",
   "execution_count": 33,
   "id": "54544ad2",
   "metadata": {},
   "outputs": [
    {
     "name": "stdout",
     "output_type": "stream",
     "text": [
      "Fold: 1 ROC-AUC SCORE 0.776\n",
      "---\n",
      "Fold: 2 ROC-AUC SCORE 0.776\n",
      "---\n",
      "Fold: 3 ROC-AUC SCORE 0.783\n",
      "---\n",
      "Fold: 4 ROC-AUC SCORE 0.782\n",
      "---\n",
      "Fold: 5 ROC-AUC SCORE 0.779\n",
      "---\n"
     ]
    }
   ],
   "source": [
    "meta_X, meta_X_test = crossval_predict(model='LGBMClassifier', \n",
    "                                       X_train=X_train, \n",
    "                                       y_train=y_train, \n",
    "                                       X_test=X_test, \n",
    "                                       y_test=y_test, \n",
    "                                       name='lgb_2', \n",
    "                                       best_param=study_lgb_2.best_params)"
   ]
  },
  {
   "cell_type": "markdown",
   "id": "4823e1c6",
   "metadata": {},
   "source": [
    "## LightGBM tuning 3"
   ]
  },
  {
   "cell_type": "code",
   "execution_count": 34,
   "id": "c7e05117",
   "metadata": {},
   "outputs": [
    {
     "data": {
      "application/vnd.jupyter.widget-view+json": {
       "model_id": "0e9a9f727eae4ee69cb6f1fad4034606",
       "version_major": 2,
       "version_minor": 0
      },
      "text/plain": [
       "  0%|          | 0/20 [00:00<?, ?it/s]"
      ]
     },
     "metadata": {},
     "output_type": "display_data"
    }
   ],
   "source": [
    "study_lgb_3 = optuna.create_study(direction=\"maximize\", study_name=\"tun_3\")\n",
    "func = lambda trial: objective_lgb_1(trial, \n",
    "                                   X_train, \n",
    "                                   y_train, \n",
    "                                   N_FOLDS=N_FOLDS, \n",
    "                                   random_state=RAND)\n",
    "optuna.logging.set_verbosity(optuna.logging.WARNING)\n",
    "study_lgb_3.optimize(func, n_trials=20, show_progress_bar=True)"
   ]
  },
  {
   "cell_type": "code",
   "execution_count": 35,
   "id": "655db342",
   "metadata": {},
   "outputs": [
    {
     "name": "stdout",
     "output_type": "stream",
     "text": [
      "Fold: 1 ROC-AUC SCORE 0.787\n",
      "---\n",
      "Fold: 2 ROC-AUC SCORE 0.784\n",
      "---\n",
      "Fold: 3 ROC-AUC SCORE 0.788\n",
      "---\n",
      "Fold: 4 ROC-AUC SCORE 0.787\n",
      "---\n",
      "Fold: 5 ROC-AUC SCORE 0.786\n",
      "---\n"
     ]
    }
   ],
   "source": [
    "meta_X, meta_X_test = crossval_predict(model='LGBMClassifier', \n",
    "                                       X_train=X_train, \n",
    "                                       y_train=y_train, \n",
    "                                       X_test=X_test, \n",
    "                                       y_test=y_test, \n",
    "                                       name='lgb_3', \n",
    "                                       best_param=study_lgb_3.best_params)"
   ]
  },
  {
   "cell_type": "markdown",
   "id": "6abf622c",
   "metadata": {},
   "source": [
    "## CatBoost tuning "
   ]
  },
  {
   "cell_type": "code",
   "execution_count": 36,
   "id": "0e07a7a1",
   "metadata": {
    "scrolled": false
   },
   "outputs": [
    {
     "name": "stdout",
     "output_type": "stream",
     "text": [
      "Fold: 1 ROC-AUC SCORE 0.805\n",
      "---\n",
      "Fold: 2 ROC-AUC SCORE 0.796\n",
      "---\n",
      "Fold: 3 ROC-AUC SCORE 0.805\n",
      "---\n",
      "Fold: 4 ROC-AUC SCORE 0.803\n",
      "---\n",
      "Fold: 5 ROC-AUC SCORE 0.803\n",
      "---\n"
     ]
    }
   ],
   "source": [
    "meta_X, meta_X_test = crossval_predict(model='CatBoostClassifier', \n",
    "                                       X_train=X_train, \n",
    "                                       y_train=y_train, \n",
    "                                       X_test=X_test, \n",
    "                                       y_test=y_test, \n",
    "                                       name='cat_1', \n",
    "                                       best_param=cat_best)"
   ]
  },
  {
   "cell_type": "markdown",
   "id": "fd028453",
   "metadata": {},
   "source": [
    "## Final meta model"
   ]
  },
  {
   "cell_type": "code",
   "execution_count": 37,
   "id": "08aa59d6",
   "metadata": {},
   "outputs": [
    {
     "data": {
      "text/html": [
       "<style>#sk-container-id-2 {color: black;background-color: white;}#sk-container-id-2 pre{padding: 0;}#sk-container-id-2 div.sk-toggleable {background-color: white;}#sk-container-id-2 label.sk-toggleable__label {cursor: pointer;display: block;width: 100%;margin-bottom: 0;padding: 0.3em;box-sizing: border-box;text-align: center;}#sk-container-id-2 label.sk-toggleable__label-arrow:before {content: \"▸\";float: left;margin-right: 0.25em;color: #696969;}#sk-container-id-2 label.sk-toggleable__label-arrow:hover:before {color: black;}#sk-container-id-2 div.sk-estimator:hover label.sk-toggleable__label-arrow:before {color: black;}#sk-container-id-2 div.sk-toggleable__content {max-height: 0;max-width: 0;overflow: hidden;text-align: left;background-color: #f0f8ff;}#sk-container-id-2 div.sk-toggleable__content pre {margin: 0.2em;color: black;border-radius: 0.25em;background-color: #f0f8ff;}#sk-container-id-2 input.sk-toggleable__control:checked~div.sk-toggleable__content {max-height: 200px;max-width: 100%;overflow: auto;}#sk-container-id-2 input.sk-toggleable__control:checked~label.sk-toggleable__label-arrow:before {content: \"▾\";}#sk-container-id-2 div.sk-estimator input.sk-toggleable__control:checked~label.sk-toggleable__label {background-color: #d4ebff;}#sk-container-id-2 div.sk-label input.sk-toggleable__control:checked~label.sk-toggleable__label {background-color: #d4ebff;}#sk-container-id-2 input.sk-hidden--visually {border: 0;clip: rect(1px 1px 1px 1px);clip: rect(1px, 1px, 1px, 1px);height: 1px;margin: -1px;overflow: hidden;padding: 0;position: absolute;width: 1px;}#sk-container-id-2 div.sk-estimator {font-family: monospace;background-color: #f0f8ff;border: 1px dotted black;border-radius: 0.25em;box-sizing: border-box;margin-bottom: 0.5em;}#sk-container-id-2 div.sk-estimator:hover {background-color: #d4ebff;}#sk-container-id-2 div.sk-parallel-item::after {content: \"\";width: 100%;border-bottom: 1px solid gray;flex-grow: 1;}#sk-container-id-2 div.sk-label:hover label.sk-toggleable__label {background-color: #d4ebff;}#sk-container-id-2 div.sk-serial::before {content: \"\";position: absolute;border-left: 1px solid gray;box-sizing: border-box;top: 0;bottom: 0;left: 50%;z-index: 0;}#sk-container-id-2 div.sk-serial {display: flex;flex-direction: column;align-items: center;background-color: white;padding-right: 0.2em;padding-left: 0.2em;position: relative;}#sk-container-id-2 div.sk-item {position: relative;z-index: 1;}#sk-container-id-2 div.sk-parallel {display: flex;align-items: stretch;justify-content: center;background-color: white;position: relative;}#sk-container-id-2 div.sk-item::before, #sk-container-id-2 div.sk-parallel-item::before {content: \"\";position: absolute;border-left: 1px solid gray;box-sizing: border-box;top: 0;bottom: 0;left: 50%;z-index: -1;}#sk-container-id-2 div.sk-parallel-item {display: flex;flex-direction: column;z-index: 1;position: relative;background-color: white;}#sk-container-id-2 div.sk-parallel-item:first-child::after {align-self: flex-end;width: 50%;}#sk-container-id-2 div.sk-parallel-item:last-child::after {align-self: flex-start;width: 50%;}#sk-container-id-2 div.sk-parallel-item:only-child::after {width: 0;}#sk-container-id-2 div.sk-dashed-wrapped {border: 1px dashed gray;margin: 0 0.4em 0.5em 0.4em;box-sizing: border-box;padding-bottom: 0.4em;background-color: white;}#sk-container-id-2 div.sk-label label {font-family: monospace;font-weight: bold;display: inline-block;line-height: 1.2em;}#sk-container-id-2 div.sk-label-container {text-align: center;}#sk-container-id-2 div.sk-container {/* jupyter's `normalize.less` sets `[hidden] { display: none; }` but bootstrap.min.css set `[hidden] { display: none !important; }` so we also need the `!important` here to be able to override the default hidden behavior on the sphinx rendered scikit-learn.org. See: https://github.com/scikit-learn/scikit-learn/issues/21755 */display: inline-block !important;position: relative;}#sk-container-id-2 div.sk-text-repr-fallback {display: none;}</style><div id=\"sk-container-id-2\" class=\"sk-top-container\"><div class=\"sk-text-repr-fallback\"><pre>LogisticRegression(class_weight=&#x27;balanced&#x27;, random_state=10)</pre><b>In a Jupyter environment, please rerun this cell to show the HTML representation or trust the notebook. <br />On GitHub, the HTML representation is unable to render, please try loading this page with nbviewer.org.</b></div><div class=\"sk-container\" hidden><div class=\"sk-item\"><div class=\"sk-estimator sk-toggleable\"><input class=\"sk-toggleable__control sk-hidden--visually\" id=\"sk-estimator-id-2\" type=\"checkbox\" checked><label for=\"sk-estimator-id-2\" class=\"sk-toggleable__label sk-toggleable__label-arrow\">LogisticRegression</label><div class=\"sk-toggleable__content\"><pre>LogisticRegression(class_weight=&#x27;balanced&#x27;, random_state=10)</pre></div></div></div></div></div>"
      ],
      "text/plain": [
       "LogisticRegression(class_weight='balanced', random_state=10)"
      ]
     },
     "execution_count": 37,
     "metadata": {},
     "output_type": "execute_result"
    }
   ],
   "source": [
    "final_clf = LogisticRegression(random_state=RAND, class_weight='balanced')\n",
    "final_clf.fit(meta_X, y_train)"
   ]
  },
  {
   "cell_type": "code",
   "execution_count": 38,
   "id": "3460eda8",
   "metadata": {},
   "outputs": [
    {
     "data": {
      "text/html": [
       "<div>\n",
       "<style scoped>\n",
       "    .dataframe tbody tr th:only-of-type {\n",
       "        vertical-align: middle;\n",
       "    }\n",
       "\n",
       "    .dataframe tbody tr th {\n",
       "        vertical-align: top;\n",
       "    }\n",
       "\n",
       "    .dataframe thead th {\n",
       "        text-align: right;\n",
       "    }\n",
       "</style>\n",
       "<table border=\"1\" class=\"dataframe\">\n",
       "  <thead>\n",
       "    <tr style=\"text-align: right;\">\n",
       "      <th></th>\n",
       "      <th>model</th>\n",
       "      <th>Accuracy</th>\n",
       "      <th>ROC_AUC</th>\n",
       "      <th>Precision</th>\n",
       "      <th>Recall</th>\n",
       "      <th>f1</th>\n",
       "      <th>Logloss</th>\n",
       "    </tr>\n",
       "  </thead>\n",
       "  <tbody>\n",
       "    <tr>\n",
       "      <th>0</th>\n",
       "      <td>LightTrain</td>\n",
       "      <td>0.853605</td>\n",
       "      <td>0.932076</td>\n",
       "      <td>0.850097</td>\n",
       "      <td>0.866615</td>\n",
       "      <td>0.858277</td>\n",
       "      <td>0.414676</td>\n",
       "    </tr>\n",
       "    <tr>\n",
       "      <th>0</th>\n",
       "      <td>LightTest</td>\n",
       "      <td>0.697547</td>\n",
       "      <td>0.786481</td>\n",
       "      <td>0.690610</td>\n",
       "      <td>0.704043</td>\n",
       "      <td>0.697262</td>\n",
       "      <td>0.551623</td>\n",
       "    </tr>\n",
       "    <tr>\n",
       "      <th>0</th>\n",
       "      <td>CatTrain</td>\n",
       "      <td>0.874719</td>\n",
       "      <td>0.948916</td>\n",
       "      <td>0.874374</td>\n",
       "      <td>0.881765</td>\n",
       "      <td>0.878054</td>\n",
       "      <td>0.378393</td>\n",
       "    </tr>\n",
       "    <tr>\n",
       "      <th>0</th>\n",
       "      <td>CatTest</td>\n",
       "      <td>0.715094</td>\n",
       "      <td>0.802328</td>\n",
       "      <td>0.706845</td>\n",
       "      <td>0.724638</td>\n",
       "      <td>0.715631</td>\n",
       "      <td>0.535439</td>\n",
       "    </tr>\n",
       "    <tr>\n",
       "      <th>0</th>\n",
       "      <td>CatGrid</td>\n",
       "      <td>0.717736</td>\n",
       "      <td>0.805724</td>\n",
       "      <td>0.708210</td>\n",
       "      <td>0.730359</td>\n",
       "      <td>0.719114</td>\n",
       "      <td>0.537844</td>\n",
       "    </tr>\n",
       "    <tr>\n",
       "      <th>0</th>\n",
       "      <td>CatGridVal</td>\n",
       "      <td>0.723208</td>\n",
       "      <td>0.810592</td>\n",
       "      <td>0.713178</td>\n",
       "      <td>0.736842</td>\n",
       "      <td>0.724817</td>\n",
       "      <td>0.530456</td>\n",
       "    </tr>\n",
       "    <tr>\n",
       "      <th>0</th>\n",
       "      <td>StakingTrain</td>\n",
       "      <td>0.712642</td>\n",
       "      <td>0.795742</td>\n",
       "      <td>0.724432</td>\n",
       "      <td>0.709912</td>\n",
       "      <td>0.717099</td>\n",
       "      <td>0.544890</td>\n",
       "    </tr>\n",
       "  </tbody>\n",
       "</table>\n",
       "</div>"
      ],
      "text/plain": [
       "          model  Accuracy   ROC_AUC  Precision    Recall        f1   Logloss\n",
       "0    LightTrain  0.853605  0.932076   0.850097  0.866615  0.858277  0.414676\n",
       "0     LightTest  0.697547  0.786481   0.690610  0.704043  0.697262  0.551623\n",
       "0      CatTrain  0.874719  0.948916   0.874374  0.881765  0.878054  0.378393\n",
       "0       CatTest  0.715094  0.802328   0.706845  0.724638  0.715631  0.535439\n",
       "0       CatGrid  0.717736  0.805724   0.708210  0.730359  0.719114  0.537844\n",
       "0    CatGridVal  0.723208  0.810592   0.713178  0.736842  0.724817  0.530456\n",
       "0  StakingTrain  0.712642  0.795742   0.724432  0.709912  0.717099  0.544890"
      ]
     },
     "execution_count": 38,
     "metadata": {},
     "output_type": "execute_result"
    }
   ],
   "source": [
    "y_pred_final = final_clf.predict(meta_X)\n",
    "y_pred_proba_final = final_clf.predict_proba(meta_X)\n",
    "\n",
    "metrics = metrics.append(\n",
    "    get_metrics(y_train, y_pred_final, y_pred_proba_final, name='StakingTrain'))\n",
    "metrics"
   ]
  },
  {
   "cell_type": "code",
   "execution_count": 39,
   "id": "6b256877",
   "metadata": {
    "scrolled": true
   },
   "outputs": [
    {
     "data": {
      "text/html": [
       "<div>\n",
       "<style scoped>\n",
       "    .dataframe tbody tr th:only-of-type {\n",
       "        vertical-align: middle;\n",
       "    }\n",
       "\n",
       "    .dataframe tbody tr th {\n",
       "        vertical-align: top;\n",
       "    }\n",
       "\n",
       "    .dataframe thead th {\n",
       "        text-align: right;\n",
       "    }\n",
       "</style>\n",
       "<table border=\"1\" class=\"dataframe\">\n",
       "  <thead>\n",
       "    <tr style=\"text-align: right;\">\n",
       "      <th></th>\n",
       "      <th>model</th>\n",
       "      <th>Accuracy</th>\n",
       "      <th>ROC_AUC</th>\n",
       "      <th>Precision</th>\n",
       "      <th>Recall</th>\n",
       "      <th>f1</th>\n",
       "      <th>Logloss</th>\n",
       "    </tr>\n",
       "  </thead>\n",
       "  <tbody>\n",
       "    <tr>\n",
       "      <th>0</th>\n",
       "      <td>LightTrain</td>\n",
       "      <td>0.853605</td>\n",
       "      <td>0.932076</td>\n",
       "      <td>0.850097</td>\n",
       "      <td>0.866615</td>\n",
       "      <td>0.858277</td>\n",
       "      <td>0.414676</td>\n",
       "    </tr>\n",
       "    <tr>\n",
       "      <th>0</th>\n",
       "      <td>LightTest</td>\n",
       "      <td>0.697547</td>\n",
       "      <td>0.786481</td>\n",
       "      <td>0.690610</td>\n",
       "      <td>0.704043</td>\n",
       "      <td>0.697262</td>\n",
       "      <td>0.551623</td>\n",
       "    </tr>\n",
       "    <tr>\n",
       "      <th>0</th>\n",
       "      <td>CatTrain</td>\n",
       "      <td>0.874719</td>\n",
       "      <td>0.948916</td>\n",
       "      <td>0.874374</td>\n",
       "      <td>0.881765</td>\n",
       "      <td>0.878054</td>\n",
       "      <td>0.378393</td>\n",
       "    </tr>\n",
       "    <tr>\n",
       "      <th>0</th>\n",
       "      <td>CatTest</td>\n",
       "      <td>0.715094</td>\n",
       "      <td>0.802328</td>\n",
       "      <td>0.706845</td>\n",
       "      <td>0.724638</td>\n",
       "      <td>0.715631</td>\n",
       "      <td>0.535439</td>\n",
       "    </tr>\n",
       "    <tr>\n",
       "      <th>0</th>\n",
       "      <td>CatGrid</td>\n",
       "      <td>0.717736</td>\n",
       "      <td>0.805724</td>\n",
       "      <td>0.708210</td>\n",
       "      <td>0.730359</td>\n",
       "      <td>0.719114</td>\n",
       "      <td>0.537844</td>\n",
       "    </tr>\n",
       "    <tr>\n",
       "      <th>0</th>\n",
       "      <td>CatGridVal</td>\n",
       "      <td>0.723208</td>\n",
       "      <td>0.810592</td>\n",
       "      <td>0.713178</td>\n",
       "      <td>0.736842</td>\n",
       "      <td>0.724817</td>\n",
       "      <td>0.530456</td>\n",
       "    </tr>\n",
       "    <tr>\n",
       "      <th>0</th>\n",
       "      <td>StakingTrain</td>\n",
       "      <td>0.712642</td>\n",
       "      <td>0.795742</td>\n",
       "      <td>0.724432</td>\n",
       "      <td>0.709912</td>\n",
       "      <td>0.717099</td>\n",
       "      <td>0.544890</td>\n",
       "    </tr>\n",
       "    <tr>\n",
       "      <th>0</th>\n",
       "      <td>StakingTest</td>\n",
       "      <td>0.716038</td>\n",
       "      <td>0.806738</td>\n",
       "      <td>0.716389</td>\n",
       "      <td>0.705187</td>\n",
       "      <td>0.710744</td>\n",
       "      <td>0.530879</td>\n",
       "    </tr>\n",
       "  </tbody>\n",
       "</table>\n",
       "</div>"
      ],
      "text/plain": [
       "          model  Accuracy   ROC_AUC  Precision    Recall        f1   Logloss\n",
       "0    LightTrain  0.853605  0.932076   0.850097  0.866615  0.858277  0.414676\n",
       "0     LightTest  0.697547  0.786481   0.690610  0.704043  0.697262  0.551623\n",
       "0      CatTrain  0.874719  0.948916   0.874374  0.881765  0.878054  0.378393\n",
       "0       CatTest  0.715094  0.802328   0.706845  0.724638  0.715631  0.535439\n",
       "0       CatGrid  0.717736  0.805724   0.708210  0.730359  0.719114  0.537844\n",
       "0    CatGridVal  0.723208  0.810592   0.713178  0.736842  0.724817  0.530456\n",
       "0  StakingTrain  0.712642  0.795742   0.724432  0.709912  0.717099  0.544890\n",
       "0   StakingTest  0.716038  0.806738   0.716389  0.705187  0.710744  0.530879"
      ]
     },
     "execution_count": 39,
     "metadata": {},
     "output_type": "execute_result"
    }
   ],
   "source": [
    "y_pred_final = final_clf.predict(meta_X_test)\n",
    "y_pred_proba_final = final_clf.predict_proba(meta_X_test)\n",
    "\n",
    "metrics = metrics.append(\n",
    "    get_metrics(y_test, y_pred_final, y_pred_proba_final, name='StakingTest'))\n",
    "metrics"
   ]
  },
  {
   "cell_type": "code",
   "execution_count": 40,
   "id": "a8ab6f54",
   "metadata": {},
   "outputs": [
    {
     "name": "stdout",
     "output_type": "stream",
     "text": [
      "roc_auc_score train: 0.794\n",
      "roc_auc_score test: 0.814\n",
      "delta = 2.4 %\n"
     ]
    }
   ],
   "source": [
    "check_overfitting(y_train=y_train,\n",
    "                  y_test=y_test,\n",
    "                  y_train_proba=final_clf.predict_proba(meta_X)[:, 1],\n",
    "                  y_test_proba=final_clf.predict_proba(meta_X_test)[:, 1])"
   ]
  },
  {
   "cell_type": "markdown",
   "id": "16d4eb14",
   "metadata": {},
   "source": [
    "**Вывод:** Таким образом. после применения стейкинга, метрики остались примерно на том же уровне, но переобучение стало меньше. "
   ]
  }
 ],
 "metadata": {
  "kernelspec": {
   "display_name": "Python 3 (ipykernel)",
   "language": "python",
   "name": "python3"
  },
  "language_info": {
   "codemirror_mode": {
    "name": "ipython",
    "version": 3
   },
   "file_extension": ".py",
   "mimetype": "text/x-python",
   "name": "python",
   "nbconvert_exporter": "python",
   "pygments_lexer": "ipython3",
   "version": "3.9.12"
  },
  "toc": {
   "base_numbering": 1,
   "nav_menu": {},
   "number_sections": true,
   "sideBar": true,
   "skip_h1_title": false,
   "title_cell": "Table of Contents",
   "title_sidebar": "Contents",
   "toc_cell": false,
   "toc_position": {
    "height": "calc(100% - 180px)",
    "left": "10px",
    "top": "150px",
    "width": "250.434784px"
   },
   "toc_section_display": true,
   "toc_window_display": false
  }
 },
 "nbformat": 4,
 "nbformat_minor": 5
}
