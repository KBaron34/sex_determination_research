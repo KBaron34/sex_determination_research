{
 "cells": [
  {
   "cell_type": "markdown",
   "id": "6e4c67c9",
   "metadata": {},
   "source": [
    "# Описание задачи"
   ]
  },
  {
   "cell_type": "markdown",
   "id": "1586efb8",
   "metadata": {},
   "source": [
    "Ссылка на данные: https://ods.ai/competitions/mtsmlcup\n",
    "\n",
    "Можно ли составить хотя бы приблизительное представление о человеке, обладая информацией о сайтах, которые он посещает? Можно ли по таким цифровым следам пользователя (на каких сайтах с каких IP он сидел, сколько раз заходил, какое у него устройство) понять, кто этот пользователь? Мужчина или женщина? \n",
    "\n",
    "Действительно, в Digital-рекламе часто сегмент включает себя пол. Эта задача особенно актуальна для рекламных DSP-площадок, которые в OpenRTB запросах получают такие данные с частотой 200 000 запросов в секунду со всех сайтов, размещающих рекламу за деньги.\n",
    "\n",
    "Задача: предсказать пол пользователя по его цифровым следам. \n",
    "\n",
    "Описание данных:\n",
    "- region_name – Регион;\n",
    "- city_name – Населенный пункт;\n",
    "- cpe_manufacturer_name – Производитель устройства;\n",
    "- cpe_model_name – Модель устройства;\n",
    "- url_host – Домен, с которого пришел рекламный запрос;\n",
    "- cpe_type_cd – Тип устройства (смартфон или что-то другое);\n",
    "- cpe_model_os_type – Операционка на устройстве;\n",
    "- price – Оценка цены устройства;\n",
    "- date – Дата;\n",
    "- part_of_day – Время дня (утро, вечер, итд);\n",
    "- request_cn – Число запросов одного пользователя за время дня (поле part_of_day);\n",
    "- user_id – ID пользователя;\n",
    "- age – Возраст пользователя;\n",
    "- is_male – Пол пользователя : мужчина (1-Да, 0-Нет).\n",
    "\n",
    "Target - is_male."
   ]
  },
  {
   "cell_type": "markdown",
   "id": "8c1dba01",
   "metadata": {},
   "source": [
    "# Import"
   ]
  },
  {
   "cell_type": "code",
   "execution_count": 13,
   "id": "6325348a",
   "metadata": {},
   "outputs": [],
   "source": [
    "import pandas as pd\n",
    "import pyarrow.parquet as pq\n",
    "import pyarrow as pa\n",
    "import numpy as np\n",
    "import scipy\n",
    "from scipy import stats\n",
    "\n",
    "import implicit\n",
    "\n",
    "import matplotlib.pyplot as plt\n",
    "import seaborn as sns\n",
    "\n",
    "import warnings\n",
    "warnings.filterwarnings('ignore')\n",
    "\n",
    "RAND = 10"
   ]
  },
  {
   "cell_type": "code",
   "execution_count": 14,
   "id": "e5f2316e",
   "metadata": {},
   "outputs": [],
   "source": [
    "train_data_path = 'data/data_train.parquet'"
   ]
  },
  {
   "cell_type": "code",
   "execution_count": 15,
   "id": "b8b7559d",
   "metadata": {},
   "outputs": [],
   "source": [
    "target_train_path = 'data/target_train.pqt'"
   ]
  },
  {
   "cell_type": "code",
   "execution_count": 16,
   "id": "e33cc540",
   "metadata": {},
   "outputs": [],
   "source": [
    "df = pd.read_parquet(train_data_path)"
   ]
  },
  {
   "cell_type": "code",
   "execution_count": 17,
   "id": "07f11a42",
   "metadata": {},
   "outputs": [],
   "source": [
    "target_train = pd.read_parquet(target_train_path)"
   ]
  },
  {
   "cell_type": "code",
   "execution_count": 18,
   "id": "3dc4f01b",
   "metadata": {},
   "outputs": [],
   "source": [
    "fin_df = pd.merge(df, target_train, on='user_id')"
   ]
  },
  {
   "cell_type": "markdown",
   "id": "f037a41f",
   "metadata": {},
   "source": [
    "# EDA+feature engineering"
   ]
  },
  {
   "cell_type": "code",
   "execution_count": 7,
   "id": "2d838c10",
   "metadata": {
    "scrolled": true
   },
   "outputs": [
    {
     "name": "stdout",
     "output_type": "stream",
     "text": [
      "<class 'pandas.core.frame.DataFrame'>\n",
      "RangeIndex: 21388176 entries, 0 to 21388175\n",
      "Data columns (total 14 columns):\n",
      " #   Column                 Dtype  \n",
      "---  ------                 -----  \n",
      " 0   region_name            object \n",
      " 1   city_name              object \n",
      " 2   cpe_manufacturer_name  object \n",
      " 3   cpe_model_name         object \n",
      " 4   url_host               object \n",
      " 5   cpe_type_cd            object \n",
      " 6   cpe_model_os_type      object \n",
      " 7   price                  float64\n",
      " 8   date                   object \n",
      " 9   part_of_day            object \n",
      " 10  request_cnt            int64  \n",
      " 11  user_id                int64  \n",
      " 12  age                    float64\n",
      " 13  is_male                object \n",
      "dtypes: float64(2), int64(2), object(10)\n",
      "memory usage: 2.2+ GB\n"
     ]
    }
   ],
   "source": [
    "fin_df.info()"
   ]
  },
  {
   "cell_type": "code",
   "execution_count": 8,
   "id": "d10d8838",
   "metadata": {},
   "outputs": [
    {
     "name": "stdout",
     "output_type": "stream",
     "text": [
      "<class 'pandas.core.frame.DataFrame'>\n",
      "RangeIndex: 21388176 entries, 0 to 21388175\n",
      "Data columns (total 14 columns):\n",
      " #   Column                 Dtype   \n",
      "---  ------                 -----   \n",
      " 0   region_name            category\n",
      " 1   city_name              category\n",
      " 2   cpe_manufacturer_name  category\n",
      " 3   cpe_model_name         category\n",
      " 4   url_host               category\n",
      " 5   cpe_type_cd            category\n",
      " 6   cpe_model_os_type      category\n",
      " 7   price                  float64 \n",
      " 8   date                   category\n",
      " 9   part_of_day            category\n",
      " 10  request_cnt            int8    \n",
      " 11  user_id                int32   \n",
      " 12  age                    float64 \n",
      " 13  is_male                object  \n",
      "dtypes: category(9), float64(2), int32(1), int8(1), object(1)\n",
      "memory usage: 900.1+ MB\n"
     ]
    }
   ],
   "source": [
    "# преобразует данные\n",
    "for i in fin_df.columns:\n",
    "    if (fin_df[i].dtype == 'object') & (i != 'is_male'):\n",
    "        fin_df[i] = fin_df[i].astype('category')\n",
    "\n",
    "fin_df['user_id'] = fin_df['user_id'].astype('int32')\n",
    "fin_df['request_cnt'] = fin_df['request_cnt'].astype('int8')\n",
    "fin_df.info()"
   ]
  },
  {
   "cell_type": "code",
   "execution_count": 9,
   "id": "331cfe22",
   "metadata": {},
   "outputs": [
    {
     "data": {
      "text/html": [
       "<div>\n",
       "<style scoped>\n",
       "    .dataframe tbody tr th:only-of-type {\n",
       "        vertical-align: middle;\n",
       "    }\n",
       "\n",
       "    .dataframe tbody tr th {\n",
       "        vertical-align: top;\n",
       "    }\n",
       "\n",
       "    .dataframe thead th {\n",
       "        text-align: right;\n",
       "    }\n",
       "</style>\n",
       "<table border=\"1\" class=\"dataframe\">\n",
       "  <thead>\n",
       "    <tr style=\"text-align: right;\">\n",
       "      <th></th>\n",
       "      <th>region_name</th>\n",
       "      <th>city_name</th>\n",
       "      <th>cpe_manufacturer_name</th>\n",
       "      <th>cpe_model_name</th>\n",
       "      <th>url_host</th>\n",
       "      <th>cpe_type_cd</th>\n",
       "      <th>cpe_model_os_type</th>\n",
       "      <th>price</th>\n",
       "      <th>date</th>\n",
       "      <th>part_of_day</th>\n",
       "      <th>request_cnt</th>\n",
       "      <th>user_id</th>\n",
       "      <th>age</th>\n",
       "      <th>is_male</th>\n",
       "    </tr>\n",
       "  </thead>\n",
       "  <tbody>\n",
       "    <tr>\n",
       "      <th>0</th>\n",
       "      <td>Санкт-Петербург</td>\n",
       "      <td>Санкт-Петербург</td>\n",
       "      <td>Samsung</td>\n",
       "      <td>Galaxy S20+</td>\n",
       "      <td>ad.mail.ru</td>\n",
       "      <td>smartphone</td>\n",
       "      <td>Android</td>\n",
       "      <td>74259.0</td>\n",
       "      <td>2021-09-26</td>\n",
       "      <td>night</td>\n",
       "      <td>1</td>\n",
       "      <td>79395</td>\n",
       "      <td>35.0</td>\n",
       "      <td>1</td>\n",
       "    </tr>\n",
       "    <tr>\n",
       "      <th>1</th>\n",
       "      <td>Санкт-Петербург</td>\n",
       "      <td>Санкт-Петербург</td>\n",
       "      <td>Samsung</td>\n",
       "      <td>Galaxy S20+</td>\n",
       "      <td>i.ytimg.com</td>\n",
       "      <td>smartphone</td>\n",
       "      <td>Android</td>\n",
       "      <td>74259.0</td>\n",
       "      <td>2021-08-21</td>\n",
       "      <td>day</td>\n",
       "      <td>3</td>\n",
       "      <td>79395</td>\n",
       "      <td>35.0</td>\n",
       "      <td>1</td>\n",
       "    </tr>\n",
       "    <tr>\n",
       "      <th>2</th>\n",
       "      <td>Санкт-Петербург</td>\n",
       "      <td>Санкт-Петербург</td>\n",
       "      <td>Samsung</td>\n",
       "      <td>Galaxy S20+</td>\n",
       "      <td>node3.online.sberbank.ru</td>\n",
       "      <td>smartphone</td>\n",
       "      <td>Android</td>\n",
       "      <td>74259.0</td>\n",
       "      <td>2021-08-20</td>\n",
       "      <td>day</td>\n",
       "      <td>3</td>\n",
       "      <td>79395</td>\n",
       "      <td>35.0</td>\n",
       "      <td>1</td>\n",
       "    </tr>\n",
       "    <tr>\n",
       "      <th>3</th>\n",
       "      <td>Калининградская область</td>\n",
       "      <td>Калининград</td>\n",
       "      <td>Samsung</td>\n",
       "      <td>Galaxy S20+</td>\n",
       "      <td>node3.online.sberbank.ru</td>\n",
       "      <td>smartphone</td>\n",
       "      <td>Android</td>\n",
       "      <td>74259.0</td>\n",
       "      <td>2021-09-09</td>\n",
       "      <td>evening</td>\n",
       "      <td>2</td>\n",
       "      <td>79395</td>\n",
       "      <td>35.0</td>\n",
       "      <td>1</td>\n",
       "    </tr>\n",
       "    <tr>\n",
       "      <th>4</th>\n",
       "      <td>Санкт-Петербург</td>\n",
       "      <td>Санкт-Петербург</td>\n",
       "      <td>Samsung</td>\n",
       "      <td>Galaxy S20+</td>\n",
       "      <td>play.google.com</td>\n",
       "      <td>smartphone</td>\n",
       "      <td>Android</td>\n",
       "      <td>74259.0</td>\n",
       "      <td>2021-08-30</td>\n",
       "      <td>day</td>\n",
       "      <td>1</td>\n",
       "      <td>79395</td>\n",
       "      <td>35.0</td>\n",
       "      <td>1</td>\n",
       "    </tr>\n",
       "  </tbody>\n",
       "</table>\n",
       "</div>"
      ],
      "text/plain": [
       "               region_name        city_name cpe_manufacturer_name   \n",
       "0          Санкт-Петербург  Санкт-Петербург               Samsung  \\\n",
       "1          Санкт-Петербург  Санкт-Петербург               Samsung   \n",
       "2          Санкт-Петербург  Санкт-Петербург               Samsung   \n",
       "3  Калининградская область      Калининград               Samsung   \n",
       "4          Санкт-Петербург  Санкт-Петербург               Samsung   \n",
       "\n",
       "  cpe_model_name                  url_host cpe_type_cd cpe_model_os_type   \n",
       "0    Galaxy S20+                ad.mail.ru  smartphone           Android  \\\n",
       "1    Galaxy S20+               i.ytimg.com  smartphone           Android   \n",
       "2    Galaxy S20+  node3.online.sberbank.ru  smartphone           Android   \n",
       "3    Galaxy S20+  node3.online.sberbank.ru  smartphone           Android   \n",
       "4    Galaxy S20+           play.google.com  smartphone           Android   \n",
       "\n",
       "     price        date part_of_day  request_cnt  user_id   age is_male  \n",
       "0  74259.0  2021-09-26       night            1    79395  35.0       1  \n",
       "1  74259.0  2021-08-21         day            3    79395  35.0       1  \n",
       "2  74259.0  2021-08-20         day            3    79395  35.0       1  \n",
       "3  74259.0  2021-09-09     evening            2    79395  35.0       1  \n",
       "4  74259.0  2021-08-30         day            1    79395  35.0       1  "
      ]
     },
     "execution_count": 9,
     "metadata": {},
     "output_type": "execute_result"
    }
   ],
   "source": [
    "fin_df.head()"
   ]
  },
  {
   "cell_type": "code",
   "execution_count": 10,
   "id": "496443b8",
   "metadata": {},
   "outputs": [
    {
     "data": {
      "text/plain": [
       "region_name                   0\n",
       "city_name                     0\n",
       "cpe_manufacturer_name         0\n",
       "cpe_model_name                0\n",
       "url_host                      0\n",
       "cpe_type_cd                   0\n",
       "cpe_model_os_type             0\n",
       "price                    476267\n",
       "date                          0\n",
       "part_of_day                   0\n",
       "request_cnt                   0\n",
       "user_id                       0\n",
       "age                         723\n",
       "is_male                    4547\n",
       "dtype: int64"
      ]
     },
     "execution_count": 10,
     "metadata": {},
     "output_type": "execute_result"
    }
   ],
   "source": [
    "# считает пропуски\n",
    "fin_df.isna().sum()"
   ]
  },
  {
   "cell_type": "code",
   "execution_count": 11,
   "id": "05bb31a3",
   "metadata": {
    "scrolled": true
   },
   "outputs": [
    {
     "name": "stdout",
     "output_type": "stream",
     "text": [
      "Доля пропусков в price: 2.227%\n",
      "Доля пропусков в age: 0.003%\n",
      "Доля пропусков в is_male: 0.021%\n"
     ]
    }
   ],
   "source": [
    "print(f\"Доля пропусков в price: {round(fin_df['price'].isna().sum()/fin_df.shape[0]*100, 3)}%\")\n",
    "print(f\"Доля пропусков в age: {round(fin_df['age'].isna().sum()/fin_df.shape[0]*100, 3)}%\")\n",
    "print(f\"Доля пропусков в is_male: {round(fin_df['is_male'].isna().sum()/fin_df.shape[0]*100, 3)}%\")"
   ]
  },
  {
   "cell_type": "code",
   "execution_count": 12,
   "id": "e70d225b",
   "metadata": {
    "scrolled": false
   },
   "outputs": [
    {
     "data": {
      "text/plain": [
       "region_name              0\n",
       "city_name                0\n",
       "cpe_manufacturer_name    0\n",
       "cpe_model_name           0\n",
       "url_host                 0\n",
       "cpe_type_cd              0\n",
       "cpe_model_os_type        0\n",
       "price                    0\n",
       "date                     0\n",
       "part_of_day              0\n",
       "request_cnt              0\n",
       "user_id                  0\n",
       "age                      0\n",
       "is_male                  0\n",
       "dtype: int64"
      ]
     },
     "execution_count": 12,
     "metadata": {},
     "output_type": "execute_result"
    }
   ],
   "source": [
    "# заполняет пропуски\n",
    "for i in fin_df.columns:\n",
    "    if fin_df[i].isna().sum() > 0:\n",
    "        if i == 'price':\n",
    "            fin_df['price'].fillna(fin_df['price'].median(), inplace=True)\n",
    "        elif i == 'age':\n",
    "            fin_df['age'].fillna(fin_df['age'].mode().iloc[0], inplace=True)\n",
    "            fin_df.loc[fin_df['age'] == 0, 'age'] = fin_df['age'].mode().iloc[0]\n",
    "        elif i == 'is_male':\n",
    "            fin_df = fin_df[fin_df.is_male != 'NA']\n",
    "            fin_df.dropna(subset=['is_male'], inplace=True)\n",
    "            fin_df = fin_df.reset_index(drop=True)\n",
    "                   \n",
    "fin_df['is_male'] = fin_df['is_male'].astype('int8')\n",
    "fin_df.isna().sum()"
   ]
  },
  {
   "cell_type": "code",
   "execution_count": 13,
   "id": "985f0f50",
   "metadata": {},
   "outputs": [
    {
     "data": {
      "text/html": [
       "<div>\n",
       "<style scoped>\n",
       "    .dataframe tbody tr th:only-of-type {\n",
       "        vertical-align: middle;\n",
       "    }\n",
       "\n",
       "    .dataframe tbody tr th {\n",
       "        vertical-align: top;\n",
       "    }\n",
       "\n",
       "    .dataframe thead th {\n",
       "        text-align: right;\n",
       "    }\n",
       "</style>\n",
       "<table border=\"1\" class=\"dataframe\">\n",
       "  <thead>\n",
       "    <tr style=\"text-align: right;\">\n",
       "      <th></th>\n",
       "      <th>price</th>\n",
       "      <th>request_cnt</th>\n",
       "      <th>user_id</th>\n",
       "      <th>age</th>\n",
       "      <th>is_male</th>\n",
       "    </tr>\n",
       "  </thead>\n",
       "  <tbody>\n",
       "    <tr>\n",
       "      <th>count</th>\n",
       "      <td>2.098052e+07</td>\n",
       "      <td>2.098052e+07</td>\n",
       "      <td>2.098052e+07</td>\n",
       "      <td>2.098052e+07</td>\n",
       "      <td>2.098052e+07</td>\n",
       "    </tr>\n",
       "    <tr>\n",
       "      <th>mean</th>\n",
       "      <td>3.293341e+04</td>\n",
       "      <td>1.722156e+00</td>\n",
       "      <td>2.064582e+05</td>\n",
       "      <td>3.708707e+01</td>\n",
       "      <td>5.150681e-01</td>\n",
       "    </tr>\n",
       "    <tr>\n",
       "      <th>std</th>\n",
       "      <td>2.563613e+04</td>\n",
       "      <td>1.211080e+00</td>\n",
       "      <td>1.193182e+05</td>\n",
       "      <td>1.127507e+01</td>\n",
       "      <td>4.997729e-01</td>\n",
       "    </tr>\n",
       "    <tr>\n",
       "      <th>min</th>\n",
       "      <td>9.000000e+01</td>\n",
       "      <td>1.000000e+00</td>\n",
       "      <td>4.000000e+00</td>\n",
       "      <td>1.400000e+01</td>\n",
       "      <td>0.000000e+00</td>\n",
       "    </tr>\n",
       "    <tr>\n",
       "      <th>25%</th>\n",
       "      <td>1.403400e+04</td>\n",
       "      <td>1.000000e+00</td>\n",
       "      <td>1.037770e+05</td>\n",
       "      <td>2.800000e+01</td>\n",
       "      <td>0.000000e+00</td>\n",
       "    </tr>\n",
       "    <tr>\n",
       "      <th>50%</th>\n",
       "      <td>2.199000e+04</td>\n",
       "      <td>1.000000e+00</td>\n",
       "      <td>2.067210e+05</td>\n",
       "      <td>3.500000e+01</td>\n",
       "      <td>1.000000e+00</td>\n",
       "    </tr>\n",
       "    <tr>\n",
       "      <th>75%</th>\n",
       "      <td>4.999000e+04</td>\n",
       "      <td>2.000000e+00</td>\n",
       "      <td>3.103260e+05</td>\n",
       "      <td>4.400000e+01</td>\n",
       "      <td>1.000000e+00</td>\n",
       "    </tr>\n",
       "    <tr>\n",
       "      <th>max</th>\n",
       "      <td>1.599900e+05</td>\n",
       "      <td>1.400000e+01</td>\n",
       "      <td>4.152770e+05</td>\n",
       "      <td>9.100000e+01</td>\n",
       "      <td>1.000000e+00</td>\n",
       "    </tr>\n",
       "  </tbody>\n",
       "</table>\n",
       "</div>"
      ],
      "text/plain": [
       "              price   request_cnt       user_id           age       is_male\n",
       "count  2.098052e+07  2.098052e+07  2.098052e+07  2.098052e+07  2.098052e+07\n",
       "mean   3.293341e+04  1.722156e+00  2.064582e+05  3.708707e+01  5.150681e-01\n",
       "std    2.563613e+04  1.211080e+00  1.193182e+05  1.127507e+01  4.997729e-01\n",
       "min    9.000000e+01  1.000000e+00  4.000000e+00  1.400000e+01  0.000000e+00\n",
       "25%    1.403400e+04  1.000000e+00  1.037770e+05  2.800000e+01  0.000000e+00\n",
       "50%    2.199000e+04  1.000000e+00  2.067210e+05  3.500000e+01  1.000000e+00\n",
       "75%    4.999000e+04  2.000000e+00  3.103260e+05  4.400000e+01  1.000000e+00\n",
       "max    1.599900e+05  1.400000e+01  4.152770e+05  9.100000e+01  1.000000e+00"
      ]
     },
     "execution_count": 13,
     "metadata": {},
     "output_type": "execute_result"
    }
   ],
   "source": [
    "fin_df.describe()"
   ]
  },
  {
   "cell_type": "code",
   "execution_count": 14,
   "id": "a2f37142",
   "metadata": {
    "scrolled": false
   },
   "outputs": [
    {
     "data": {
      "text/html": [
       "<div>\n",
       "<style scoped>\n",
       "    .dataframe tbody tr th:only-of-type {\n",
       "        vertical-align: middle;\n",
       "    }\n",
       "\n",
       "    .dataframe tbody tr th {\n",
       "        vertical-align: top;\n",
       "    }\n",
       "\n",
       "    .dataframe thead th {\n",
       "        text-align: right;\n",
       "    }\n",
       "</style>\n",
       "<table border=\"1\" class=\"dataframe\">\n",
       "  <thead>\n",
       "    <tr style=\"text-align: right;\">\n",
       "      <th></th>\n",
       "      <th>region_name</th>\n",
       "      <th>city_name</th>\n",
       "      <th>cpe_manufacturer_name</th>\n",
       "      <th>cpe_model_name</th>\n",
       "      <th>url_host</th>\n",
       "      <th>cpe_type_cd</th>\n",
       "      <th>cpe_model_os_type</th>\n",
       "      <th>date</th>\n",
       "      <th>part_of_day</th>\n",
       "    </tr>\n",
       "  </thead>\n",
       "  <tbody>\n",
       "    <tr>\n",
       "      <th>count</th>\n",
       "      <td>20980518</td>\n",
       "      <td>20980518</td>\n",
       "      <td>20980518</td>\n",
       "      <td>20980518</td>\n",
       "      <td>20980518</td>\n",
       "      <td>20980518</td>\n",
       "      <td>20980518</td>\n",
       "      <td>20980518</td>\n",
       "      <td>20980518</td>\n",
       "    </tr>\n",
       "    <tr>\n",
       "      <th>unique</th>\n",
       "      <td>80</td>\n",
       "      <td>943</td>\n",
       "      <td>31</td>\n",
       "      <td>486</td>\n",
       "      <td>63266</td>\n",
       "      <td>4</td>\n",
       "      <td>3</td>\n",
       "      <td>396</td>\n",
       "      <td>4</td>\n",
       "    </tr>\n",
       "    <tr>\n",
       "      <th>top</th>\n",
       "      <td>Москва</td>\n",
       "      <td>Москва</td>\n",
       "      <td>Apple</td>\n",
       "      <td>iPhone 11</td>\n",
       "      <td>googleads.g.doubleclick.net</td>\n",
       "      <td>smartphone</td>\n",
       "      <td>Android</td>\n",
       "      <td>2021-06-16</td>\n",
       "      <td>day</td>\n",
       "    </tr>\n",
       "    <tr>\n",
       "      <th>freq</th>\n",
       "      <td>3062521</td>\n",
       "      <td>3062521</td>\n",
       "      <td>8080953</td>\n",
       "      <td>1867652</td>\n",
       "      <td>1423072</td>\n",
       "      <td>20972962</td>\n",
       "      <td>12899565</td>\n",
       "      <td>456297</td>\n",
       "      <td>6964705</td>\n",
       "    </tr>\n",
       "  </tbody>\n",
       "</table>\n",
       "</div>"
      ],
      "text/plain": [
       "       region_name city_name cpe_manufacturer_name cpe_model_name   \n",
       "count     20980518  20980518              20980518       20980518  \\\n",
       "unique          80       943                    31            486   \n",
       "top         Москва    Москва                 Apple      iPhone 11   \n",
       "freq       3062521   3062521               8080953        1867652   \n",
       "\n",
       "                           url_host cpe_type_cd cpe_model_os_type        date   \n",
       "count                      20980518    20980518          20980518    20980518  \\\n",
       "unique                        63266           4                 3         396   \n",
       "top     googleads.g.doubleclick.net  smartphone           Android  2021-06-16   \n",
       "freq                        1423072    20972962          12899565      456297   \n",
       "\n",
       "       part_of_day  \n",
       "count     20980518  \n",
       "unique           4  \n",
       "top            day  \n",
       "freq       6964705  "
      ]
     },
     "execution_count": 14,
     "metadata": {},
     "output_type": "execute_result"
    }
   ],
   "source": [
    "fin_df.describe(include='category')"
   ]
  },
  {
   "cell_type": "code",
   "execution_count": 15,
   "id": "8948d5a2",
   "metadata": {},
   "outputs": [],
   "source": [
    "fin_df = fin_df[fin_df.cpe_model_os_type != 'Apple iOS']"
   ]
  },
  {
   "cell_type": "code",
   "execution_count": 16,
   "id": "50e15e52",
   "metadata": {},
   "outputs": [],
   "source": [
    "fin_df['month'] = pd.to_datetime(fin_df.date).dt.month"
   ]
  },
  {
   "cell_type": "code",
   "execution_count": 17,
   "id": "d8efc90c",
   "metadata": {},
   "outputs": [],
   "source": [
    "month_dict = {1: 'January', \n",
    "              2: 'February', \n",
    "              3: 'March', \n",
    "              4: 'April',\n",
    "              5: 'May', \n",
    "              6: 'June',\n",
    "              7: 'July', \n",
    "              8: 'August', \n",
    "              9: 'September', \n",
    "              10: 'October',\n",
    "              11: 'November', \n",
    "              12: 'December'}"
   ]
  },
  {
   "cell_type": "code",
   "execution_count": 18,
   "id": "33894d09",
   "metadata": {},
   "outputs": [],
   "source": [
    "fin_df['month'] = fin_df['month'].map(month_dict)"
   ]
  },
  {
   "cell_type": "code",
   "execution_count": 19,
   "id": "eff7afa1",
   "metadata": {},
   "outputs": [],
   "source": [
    "fin_df['day'] = pd.to_datetime(fin_df.date).dt.day"
   ]
  },
  {
   "cell_type": "code",
   "execution_count": 20,
   "id": "ab6ee561",
   "metadata": {},
   "outputs": [],
   "source": [
    "def get_bins_day(data: int) -> str:\n",
    "    \"\"\"\n",
    "    Генерирует бины для признака 'day'\n",
    "    \"\"\"\n",
    "    if data <= 10:\n",
    "        return 'one_decade'\n",
    "    elif 10 < data <= 20:\n",
    "        return 'two_decade'\n",
    "    else:\n",
    "        return 'three_decade'"
   ]
  },
  {
   "cell_type": "code",
   "execution_count": 21,
   "id": "965657ed",
   "metadata": {},
   "outputs": [],
   "source": [
    "fin_df['bins_day'] = fin_df.apply(lambda x: get_bins_day(x['day']), axis=1)"
   ]
  },
  {
   "cell_type": "code",
   "execution_count": 22,
   "id": "9cd97dc7",
   "metadata": {},
   "outputs": [],
   "source": [
    "def get_bins_price(data: int) -> str:\n",
    "    \"\"\"\n",
    "    Генерирует бины для признака 'price'\n",
    "    \"\"\"\n",
    "    if data <= 20000:\n",
    "        return 'cheap_price'\n",
    "    elif 20000 < data <= 50000:\n",
    "        return 'middle_price'\n",
    "    elif data > 50000:\n",
    "        return 'high_price'"
   ]
  },
  {
   "cell_type": "code",
   "execution_count": 23,
   "id": "542588e9",
   "metadata": {},
   "outputs": [],
   "source": [
    "fin_df['bins_price'] = fin_df.apply(lambda x: get_bins_price(x['price']), axis=1)"
   ]
  },
  {
   "cell_type": "code",
   "execution_count": 24,
   "id": "f1e0dcf0",
   "metadata": {},
   "outputs": [],
   "source": [
    "def get_bins_age(data: int) -> str:\n",
    "    \"\"\"\n",
    "    Генерирует бины для признака 'age'\n",
    "    \"\"\"\n",
    "    if data <= 35:\n",
    "        return 'young_aged'\n",
    "    elif 35 < data <= 55:\n",
    "        return 'middle_aged'\n",
    "    elif data > 55:\n",
    "        return 'older_aged'"
   ]
  },
  {
   "cell_type": "code",
   "execution_count": 25,
   "id": "374925f5",
   "metadata": {},
   "outputs": [],
   "source": [
    "fin_df['bins_age'] = fin_df.apply(lambda x: get_bins_age(x['age']), axis=1)"
   ]
  },
  {
   "cell_type": "code",
   "execution_count": 26,
   "id": "3a00a7c4",
   "metadata": {},
   "outputs": [
    {
     "name": "stdout",
     "output_type": "stream",
     "text": [
      "<class 'pandas.core.frame.DataFrame'>\n",
      "Index: 20843671 entries, 0 to 20980517\n",
      "Data columns (total 15 columns):\n",
      " #   Column                 Dtype   \n",
      "---  ------                 -----   \n",
      " 0   region_name            category\n",
      " 1   city_name              category\n",
      " 2   cpe_manufacturer_name  category\n",
      " 3   cpe_model_name         category\n",
      " 4   url_host               category\n",
      " 5   cpe_type_cd            category\n",
      " 6   cpe_model_os_type      category\n",
      " 7   part_of_day            category\n",
      " 8   request_cnt            int8    \n",
      " 9   user_id                int32   \n",
      " 10  is_male                int8    \n",
      " 11  month                  category\n",
      " 12  bins_day               category\n",
      " 13  bins_price             category\n",
      " 14  bins_age               category\n",
      "dtypes: category(12), int32(1), int8(2)\n",
      "memory usage: 618.8 MB\n"
     ]
    }
   ],
   "source": [
    "# удаляет ненужные колонки и преобразует данные\n",
    "fin_df.drop(['date', 'day', 'age', 'price'], inplace=True, axis=1)\n",
    "for i in fin_df.columns:\n",
    "    if fin_df[i].dtype == 'object':\n",
    "        fin_df[i] = fin_df[i].astype('category')\n",
    "fin_df.info()"
   ]
  },
  {
   "cell_type": "markdown",
   "id": "9cb07b38",
   "metadata": {},
   "source": [
    "# Гипотезы:\n",
    "\n",
    "- 1. Регион и населенный пункт влияют на пол владельца HTTP cookie;\n",
    "- 2. Производитель устройства и его модель с которго были выходы в сеть влияют на пол;\n",
    "- 3. Операционная система не влияет на целевую переменную;\n",
    "- 4. Тип устройства влияет на пол пользователя;\n",
    "- 5. Цена устройства влияет на пол;\n",
    "- 6. Женщины делают больше запросов за один день, чем мужчины;\n",
    "- 7. Женщины более активны в первой половине дня, чем мужчины;\n",
    "- 8. Среди мужчины больше молодых людей, но в целом возраст не влияет на принадлежность к полу;\n",
    "- 9. Месяц и его декады не влияют на таргет. "
   ]
  },
  {
   "cell_type": "code",
   "execution_count": 28,
   "id": "8861c21f",
   "metadata": {},
   "outputs": [
    {
     "data": {
      "image/png": "[encoded data removed]",
      "text/plain": [
       "<Figure size 1080x504 with 1 Axes>"
      ]
     },
     "metadata": {
      "needs_background": "light"
     },
     "output_type": "display_data"
    }
   ],
   "source": [
    "def plot_text(ax: plt.Axes):\n",
    "    \"\"\"\n",
    "    Выводит текст на графике barplot\n",
    "    \"\"\"\n",
    "    for p in ax.patches:\n",
    "        percentage = '{:.1f}%'.format(p.get_height())\n",
    "        ax.annotate(\n",
    "            percentage,  # текст\n",
    "            # координата xy\n",
    "            (p.get_x() + p.get_width() / 2., p.get_height()),\n",
    "            # центрирование\n",
    "            ha='center',\n",
    "            va='center',\n",
    "            xytext=(0, 10),\n",
    "            # точка смещения относительно координаты\n",
    "            textcoords='offset points',\n",
    "            fontsize=14)\n",
    "        \n",
    "        \n",
    "# нормирование на размер датасета\n",
    "norm_target = (fin_df\n",
    "               .is_male\n",
    "               .value_counts(normalize=True)\n",
    "               .mul(100)\n",
    "               .rename('percent')\n",
    "               .reset_index())\n",
    "\n",
    "plt.figure(figsize=(15, 7))\n",
    "ax = sns.barplot(x='is_male', y='percent', data=norm_target)\n",
    "\n",
    "plot_text(ax)\n",
    "\n",
    "plt.title('Target', fontsize=20)\n",
    "plt.xlabel('Target', fontsize=14)\n",
    "plt.ylabel('Проценты', fontsize=14)\n",
    "\n",
    "plt.xticks(fontsize=14)\n",
    "plt.yticks(fontsize=14)\n",
    "plt.show()"
   ]
  },
  {
   "cell_type": "markdown",
   "id": "67058961",
   "metadata": {},
   "source": [
    "**Вывод:**\n",
    "В датасете дисбаланс классов несущественнен."
   ]
  },
  {
   "cell_type": "markdown",
   "id": "a8757091",
   "metadata": {},
   "source": [
    "## Гипотеза 1:\n",
    "- Регион и населенный пункт влияют на пол владельца HTTP cookie."
   ]
  },
  {
   "cell_type": "code",
   "execution_count": 29,
   "id": "f17a63f3",
   "metadata": {
    "scrolled": false
   },
   "outputs": [
    {
     "name": "stdout",
     "output_type": "stream",
     "text": [
      "   is_male              region_name   проценты\n",
      "0        0                   Москва  12.398937\n",
      "1        0       Краснодарский край   8.744520\n",
      "2        0       Московская область   6.188761\n",
      "3        0          Санкт-Петербург   5.861725\n",
      "4        0  Республика Башкортостан   5.092265\n",
      "5        0     Республика Татарстан   3.891338\n",
      "6        0     Свердловская область   3.535530\n",
      "7        0        Самарская область   3.074239\n",
      "8        0    Новосибирская область   3.050810\n",
      "9        0       Ростовская область   2.814979\n",
      "\n",
      "\n",
      "    is_male              region_name   проценты\n",
      "80        1                   Москва  16.453839\n",
      "81        1       Краснодарский край   7.501281\n",
      "82        1          Санкт-Петербург   6.710893\n",
      "83        1       Московская область   6.183547\n",
      "84        1  Республика Башкортостан   4.981590\n",
      "85        1     Республика Татарстан   4.123436\n",
      "86        1     Свердловская область   3.779485\n",
      "87        1    Новосибирская область   3.271641\n",
      "88        1       Ростовская область   2.757048\n",
      "89        1        Самарская область   2.516001\n"
     ]
    }
   ],
   "source": [
    "region_male = (fin_df.groupby(['is_male'])['region_name']\n",
    "                             .value_counts(normalize=True)\n",
    "                             .rename('проценты')\n",
    "                             .mul(100)\n",
    "                             .reset_index())\n",
    "\n",
    "print(region_male[region_male['is_male'] == 0][:10], end='\\n\\n\\n')\n",
    "print(region_male[region_male['is_male'] == 1][:10])"
   ]
  },
  {
   "cell_type": "code",
   "execution_count": 30,
   "id": "55391249",
   "metadata": {},
   "outputs": [
    {
     "name": "stdout",
     "output_type": "stream",
     "text": [
      "   is_male        city_name   проценты\n",
      "0        0           Москва  12.398937\n",
      "1        0  Санкт-Петербург   5.861725\n",
      "2        0        Краснодар   2.809645\n",
      "3        0      Новосибирск   2.772049\n",
      "4        0              Уфа   2.748650\n",
      "5        0             Сочи   2.088401\n",
      "6        0     Екатеринбург   1.989304\n",
      "7        0           Казань   1.779687\n",
      "8        0           Тюмень   1.778081\n",
      "9        0            Пермь   1.659600\n",
      "\n",
      "\n",
      "     is_male        city_name   проценты\n",
      "944        1           Москва  16.453839\n",
      "945        1  Санкт-Петербург   6.710893\n",
      "946        1      Новосибирск   2.893714\n",
      "947        1        Краснодар   2.883860\n",
      "948        1              Уфа   2.844790\n",
      "949        1     Екатеринбург   2.437600\n",
      "950        1           Казань   1.999985\n",
      "951        1           Тюмень   1.600464\n",
      "952        1           Ижевск   1.569314\n",
      "953        1             Сочи   1.565140\n"
     ]
    }
   ],
   "source": [
    "city_male = (fin_df.groupby(['is_male'])['city_name']\n",
    "                             .value_counts(normalize=True)\n",
    "                             .rename('проценты')\n",
    "                             .mul(100)\n",
    "                             .reset_index())\n",
    "\n",
    "print(city_male[city_male['is_male'] == 0][:10], end='\\n\\n\\n')\n",
    "print(city_male[city_male['is_male'] == 1][:10])"
   ]
  },
  {
   "cell_type": "markdown",
   "id": "14617b46",
   "metadata": {},
   "source": [
    "**Вывод:**\n",
    "Регион и населенный пункт немного влияют на принадлежность к тому или иному полу. Также видно, что люди из нашей целевой переменной преимущественно проживают в Москве и Санкт-Петербурге. Гипотеза скорее подтвердилась."
   ]
  },
  {
   "cell_type": "markdown",
   "id": "ef50d62d",
   "metadata": {},
   "source": [
    "## Гипотеза 2:\n",
    "- Производитель устройства и его модель с которго были выходы в сеть влияют на пол. "
   ]
  },
  {
   "cell_type": "code",
   "execution_count": 31,
   "id": "2dc7c99a",
   "metadata": {},
   "outputs": [],
   "source": [
    "def barplot_group(col_main: str, col_group: str, data: pd.DataFrame, \n",
    "                  title: str, grad: int) -> None:\n",
    "    \"\"\"\n",
    "    Строит barplot с нормированными данными с выводом значений на графике\n",
    "    :param col_main: признак для анализа по col_group\n",
    "    :param col_group: признак для нормализации/группировки\n",
    "    :param data: датасет\n",
    "    :param title: название графика\n",
    "    :param grad: угол повората текста\n",
    "    :return: None\n",
    "    \"\"\"\n",
    "    plt.figure(figsize=(30, 6))\n",
    "\n",
    "    data = (data.groupby([col_group])[col_main]\n",
    "            .value_counts(normalize=True)\n",
    "            .rename('Проценты')\n",
    "            .mul(100)\n",
    "            .reset_index()\n",
    "            .sort_values(col_group))\n",
    "\n",
    "    ax = sns.barplot(x=col_main, y=\"Проценты\", hue=col_group, data=data)\n",
    "\n",
    "    for p in ax.patches:\n",
    "        percentage = '{:.1f}%'.format(p.get_height())\n",
    "        ax.annotate(percentage,\n",
    "                    (p.get_x() + p.get_width() / 2.,\n",
    "                     p.get_height()),\n",
    "                    ha='center',\n",
    "                    va='center',\n",
    "                    xytext=(0, 7),\n",
    "                    textcoords='offset points',\n",
    "                    fontsize=8)\n",
    "\n",
    "    plt.title(title, fontsize=16)\n",
    "    plt.ylabel('Проценты', fontsize=14)\n",
    "    plt.xlabel(col_main, fontsize=14)\n",
    "    plt.xticks(rotation=grad)\n",
    "    plt.show()"
   ]
  },
  {
   "cell_type": "code",
   "execution_count": 32,
   "id": "3b6b02ab",
   "metadata": {
    "scrolled": true
   },
   "outputs": [
    {
     "data": {
      "image/png": "[encoded data removed]",
      "text/plain": [
       "<Figure size 2160x432 with 1 Axes>"
      ]
     },
     "metadata": {
      "needs_background": "light"
     },
     "output_type": "display_data"
    }
   ],
   "source": [
    "barplot_group('cpe_manufacturer_name', 'is_male', fin_df,\n",
    "              'Зависимость пола от производителя устройства', 90)"
   ]
  },
  {
   "cell_type": "code",
   "execution_count": 34,
   "id": "446269bb",
   "metadata": {},
   "outputs": [
    {
     "data": {
      "image/png": "[encoded data removed]",
      "text/plain": [
       "<Figure size 2160x432 with 1 Axes>"
      ]
     },
     "metadata": {
      "needs_background": "light"
     },
     "output_type": "display_data"
    }
   ],
   "source": [
    "barplot_group('is_male', 'cpe_manufacturer_name', fin_df,\n",
    "              'Зависимость пола от производителя устройства', 0)"
   ]
  },
  {
   "cell_type": "code",
   "execution_count": 35,
   "id": "96e019fe",
   "metadata": {},
   "outputs": [
    {
     "name": "stdout",
     "output_type": "stream",
     "text": [
      "   is_male                              cpe_manufacturer_name   проценты\n",
      "0        0                                              Apple  39.693975\n",
      "1        0                                            Samsung  25.260960\n",
      "2        0                                             Huawei  19.169085\n",
      "3        0                                             Xiaomi  13.451679\n",
      "4        0                                               Vivo   0.458029\n",
      "5        0  Realme Chongqing Mobile Telecommunications Cor...   0.447857\n",
      "6        0                                               Oppo   0.401158\n",
      "7        0                      Huawei Device Company Limited   0.383183\n",
      "8        0                       Honor Device Company Limited   0.122427\n",
      "9        0                                                ZTE   0.112661\n",
      "\n",
      "\n",
      "    is_male                              cpe_manufacturer_name   проценты\n",
      "31        1                                              Apple  36.630330\n",
      "32        1                                            Samsung  23.864887\n",
      "33        1                                             Huawei  19.581387\n",
      "34        1                                             Xiaomi  16.461127\n",
      "35        1  Realme Chongqing Mobile Telecommunications Cor...   0.810197\n",
      "36        1                                               Oppo   0.546617\n",
      "37        1                                               Vivo   0.542025\n",
      "38        1                      Huawei Device Company Limited   0.416309\n",
      "39        1                                               Asus   0.248438\n",
      "40        1                                              Nokia   0.201076\n"
     ]
    }
   ],
   "source": [
    "manufacturer_male = (fin_df.groupby(['is_male'])['cpe_manufacturer_name']\n",
    "                                    .value_counts(normalize=True)\n",
    "                                    .rename('проценты')\n",
    "                                    .mul(100)\n",
    "                                    .reset_index())\n",
    "\n",
    "print(manufacturer_male[manufacturer_male['is_male'] == 0][:10], end='\\n\\n\\n')\n",
    "print(manufacturer_male[manufacturer_male['is_male'] == 1][:10])"
   ]
  },
  {
   "cell_type": "code",
   "execution_count": 36,
   "id": "4fcfa7f3",
   "metadata": {},
   "outputs": [
    {
     "name": "stdout",
     "output_type": "stream",
     "text": [
      "   is_male   cpe_model_name   проценты\n",
      "0        0        iPhone 11  10.637959\n",
      "1        0        iPhone XR   5.575349\n",
      "2        0    Honor 10 Lite   3.409544\n",
      "3        0         iPhone 7   3.238763\n",
      "4        0  Galaxy A51 Dual   2.819540\n",
      "5        0  Galaxy A50 Dual   2.635751\n",
      "6        0    iPhone 8 Plus   2.428941\n",
      "7        0         Honor 8X   1.898059\n",
      "8        0         iPhone 8   1.854682\n",
      "9        0         iPhone X   1.831908\n",
      "\n",
      "\n",
      "     is_male    cpe_model_name  проценты\n",
      "487        1         iPhone 11  7.029393\n",
      "488        1         iPhone XR  4.728068\n",
      "489        1          iPhone 7  4.012901\n",
      "490        1     Honor 10 Lite  3.112424\n",
      "491        1   Galaxy A50 Dual  2.483400\n",
      "492        1  Redmi Note 8 Pro  2.366070\n",
      "493        1   Galaxy A51 Dual  2.182312\n",
      "494        1          iPhone X  2.159156\n",
      "495        1          Honor 8X  1.814470\n",
      "496        1          iPhone 8  1.705097\n"
     ]
    }
   ],
   "source": [
    "model_male = (fin_df.groupby(['is_male'])['cpe_model_name']\n",
    "                            .value_counts(normalize=True)\n",
    "                            .rename('проценты')\n",
    "                            .mul(100)\n",
    "                            .reset_index())\n",
    "\n",
    "print(model_male[model_male['is_male'] == 0][:10], end='\\n\\n\\n')\n",
    "print(model_male[model_male['is_male'] == 1][:10])"
   ]
  },
  {
   "cell_type": "code",
   "execution_count": 37,
   "id": "4e7ca57f",
   "metadata": {},
   "outputs": [],
   "source": [
    "def check_chi2(x: pd.Series, y: pd.Series, alpha: float = 0.05):\n",
    "    \"\"\"\n",
    "    Проверяет связи двух переменных\n",
    "    \"\"\"\n",
    "    # create crosstab for chi2\n",
    "    ct_table_ind = pd.crosstab(x, y)\n",
    "    chi2_stat, p, dof, expected = stats.chi2_contingency(ct_table_ind)\n",
    "    print(f\"chi2 statistic: {chi2_stat:.5g}\")\n",
    "    print(f\"p-value {p:.5g}\")\n",
    "\n",
    "    if p < alpha:\n",
    "        print(\"Две переменные имеют связь\")\n",
    "    else:\n",
    "        print(\"Две переменные не имеют связь\")"
   ]
  },
  {
   "cell_type": "code",
   "execution_count": 40,
   "id": "5cfc2106",
   "metadata": {},
   "outputs": [
    {
     "name": "stdout",
     "output_type": "stream",
     "text": [
      "chi2 statistic: 1.1449e+05\n",
      "p-value 0\n",
      "Две переменные имеют связь\n"
     ]
    }
   ],
   "source": [
    "check_chi2(fin_df['cpe_manufacturer_name'], fin_df['is_male'])"
   ]
  },
  {
   "cell_type": "code",
   "execution_count": 41,
   "id": "a8e993fb",
   "metadata": {},
   "outputs": [
    {
     "name": "stdout",
     "output_type": "stream",
     "text": [
      "chi2 statistic: 1.0637e+06\n",
      "p-value 0\n",
      "Две переменные имеют связь\n"
     ]
    }
   ],
   "source": [
    "check_chi2(fin_df['cpe_model_name'], fin_df['is_male'])"
   ]
  },
  {
   "cell_type": "markdown",
   "id": "8650c134",
   "metadata": {},
   "source": [
    "**Вывод:**\n",
    "Производитель устройства и его модель частично влияют на принадлежность к тому или иному полу. Гипотеза вероятнее подтвердилась."
   ]
  },
  {
   "cell_type": "markdown",
   "id": "a772a2a0",
   "metadata": {},
   "source": [
    "## Гипотеза 3:\n",
    "- Операционная система не влияет на целевую переменную."
   ]
  },
  {
   "cell_type": "code",
   "execution_count": 42,
   "id": "d6c5a733",
   "metadata": {},
   "outputs": [
    {
     "name": "stdout",
     "output_type": "stream",
     "text": [
      "chi2 statistic: 20714\n",
      "p-value 0\n",
      "Две переменные имеют связь\n"
     ]
    }
   ],
   "source": [
    "check_chi2(fin_df['cpe_model_os_type'], fin_df['is_male'])"
   ]
  },
  {
   "cell_type": "code",
   "execution_count": 43,
   "id": "c3e315ec",
   "metadata": {},
   "outputs": [
    {
     "data": {
      "text/html": [
       "<div>\n",
       "<style scoped>\n",
       "    .dataframe tbody tr th:only-of-type {\n",
       "        vertical-align: middle;\n",
       "    }\n",
       "\n",
       "    .dataframe tbody tr th {\n",
       "        vertical-align: top;\n",
       "    }\n",
       "\n",
       "    .dataframe thead th {\n",
       "        text-align: right;\n",
       "    }\n",
       "</style>\n",
       "<table border=\"1\" class=\"dataframe\">\n",
       "  <thead>\n",
       "    <tr style=\"text-align: right;\">\n",
       "      <th>is_male</th>\n",
       "      <th>0</th>\n",
       "      <th>1</th>\n",
       "    </tr>\n",
       "    <tr>\n",
       "      <th>cpe_model_os_type</th>\n",
       "      <th></th>\n",
       "      <th></th>\n",
       "    </tr>\n",
       "  </thead>\n",
       "  <tbody>\n",
       "    <tr>\n",
       "      <th>Android</th>\n",
       "      <td>0.471527</td>\n",
       "      <td>0.528473</td>\n",
       "    </tr>\n",
       "    <tr>\n",
       "      <th>iOS</th>\n",
       "      <td>0.503965</td>\n",
       "      <td>0.496035</td>\n",
       "    </tr>\n",
       "  </tbody>\n",
       "</table>\n",
       "</div>"
      ],
      "text/plain": [
       "is_male                   0         1\n",
       "cpe_model_os_type                    \n",
       "Android            0.471527  0.528473\n",
       "iOS                0.503965  0.496035"
      ]
     },
     "execution_count": 43,
     "metadata": {},
     "output_type": "execute_result"
    }
   ],
   "source": [
    "pd.crosstab(index=fin_df.cpe_model_os_type,\n",
    "            columns=fin_df.is_male,\n",
    "            normalize='index')"
   ]
  },
  {
   "cell_type": "markdown",
   "id": "abdecbe2",
   "metadata": {},
   "source": [
    "**Вывод:**\n",
    "Операционная система устройства оказывает влияние пол. Женщины чаще предпочитаю iOS, а мужчмеы Android, что частично подтверждают и исследования выше. Гипотеза не подтвердилась."
   ]
  },
  {
   "cell_type": "markdown",
   "id": "412abe27",
   "metadata": {},
   "source": [
    "## Гипотеза 4:\n",
    "- Тип устройства влияет на пол пользователя. "
   ]
  },
  {
   "cell_type": "code",
   "execution_count": 44,
   "id": "cc593afc",
   "metadata": {},
   "outputs": [
    {
     "data": {
      "image/png": "[encoded data removed]",
      "text/plain": [
       "<Figure size 2160x432 with 1 Axes>"
      ]
     },
     "metadata": {
      "needs_background": "light"
     },
     "output_type": "display_data"
    }
   ],
   "source": [
    "barplot_group('cpe_type_cd', 'is_male', fin_df,\n",
    "              'Зависимость пола от типа устройства', 0)"
   ]
  },
  {
   "cell_type": "code",
   "execution_count": 47,
   "id": "a7e11168",
   "metadata": {},
   "outputs": [
    {
     "data": {
      "image/png": "[encoded data removed]",
      "text/plain": [
       "<Figure size 2160x432 with 1 Axes>"
      ]
     },
     "metadata": {
      "needs_background": "light"
     },
     "output_type": "display_data"
    }
   ],
   "source": [
    "barplot_group('is_male', 'cpe_type_cd', fin_df,\n",
    "              'Зависимость пола от типа устройства', 0)"
   ]
  },
  {
   "cell_type": "code",
   "execution_count": 45,
   "id": "532b7ff0",
   "metadata": {},
   "outputs": [
    {
     "name": "stdout",
     "output_type": "stream",
     "text": [
      "chi2 statistic: 5006.7\n",
      "p-value 0\n",
      "Две переменные имеют связь\n"
     ]
    }
   ],
   "source": [
    "check_chi2(fin_df['cpe_type_cd'], fin_df['is_male'])"
   ]
  },
  {
   "cell_type": "code",
   "execution_count": 46,
   "id": "c9cda4e1",
   "metadata": {},
   "outputs": [
    {
     "data": {
      "text/html": [
       "<div>\n",
       "<style scoped>\n",
       "    .dataframe tbody tr th:only-of-type {\n",
       "        vertical-align: middle;\n",
       "    }\n",
       "\n",
       "    .dataframe tbody tr th {\n",
       "        vertical-align: top;\n",
       "    }\n",
       "\n",
       "    .dataframe thead th {\n",
       "        text-align: right;\n",
       "    }\n",
       "</style>\n",
       "<table border=\"1\" class=\"dataframe\">\n",
       "  <thead>\n",
       "    <tr style=\"text-align: right;\">\n",
       "      <th>is_male</th>\n",
       "      <th>0</th>\n",
       "      <th>1</th>\n",
       "    </tr>\n",
       "    <tr>\n",
       "      <th>cpe_type_cd</th>\n",
       "      <th></th>\n",
       "      <th></th>\n",
       "    </tr>\n",
       "  </thead>\n",
       "  <tbody>\n",
       "    <tr>\n",
       "      <th>phablet</th>\n",
       "      <td>0.012476</td>\n",
       "      <td>0.987524</td>\n",
       "    </tr>\n",
       "    <tr>\n",
       "      <th>plain</th>\n",
       "      <td>0.036044</td>\n",
       "      <td>0.963956</td>\n",
       "    </tr>\n",
       "    <tr>\n",
       "      <th>smartphone</th>\n",
       "      <td>0.484035</td>\n",
       "      <td>0.515965</td>\n",
       "    </tr>\n",
       "    <tr>\n",
       "      <th>tablet</th>\n",
       "      <td>0.163884</td>\n",
       "      <td>0.836116</td>\n",
       "    </tr>\n",
       "  </tbody>\n",
       "</table>\n",
       "</div>"
      ],
      "text/plain": [
       "is_male             0         1\n",
       "cpe_type_cd                    \n",
       "phablet      0.012476  0.987524\n",
       "plain        0.036044  0.963956\n",
       "smartphone   0.484035  0.515965\n",
       "tablet       0.163884  0.836116"
      ]
     },
     "execution_count": 46,
     "metadata": {},
     "output_type": "execute_result"
    }
   ],
   "source": [
    "pd.crosstab(index=fin_df.cpe_type_cd,\n",
    "            columns=fin_df.is_male,\n",
    "            normalize='index')"
   ]
  },
  {
   "cell_type": "markdown",
   "id": "eb90fabe",
   "metadata": {},
   "source": [
    "**Вывод:**\n",
    "Тип устройства влияет на принадлежность к полу. Мужчины, помимо смартфонов, чаще используют альтернативные устройства. Гипотеза подтвердилась. "
   ]
  },
  {
   "cell_type": "markdown",
   "id": "bf71bc1c",
   "metadata": {},
   "source": [
    "## Гипотеза 5:\n",
    "- Цена устройства влияет на пол. "
   ]
  },
  {
   "cell_type": "code",
   "execution_count": 37,
   "id": "ea2d9d4c",
   "metadata": {},
   "outputs": [],
   "source": [
    "def countplot_group(targ_main: str, data: pd.DataFrame,\n",
    "                    exp_group: str, title: str) -> None:\n",
    "    \"\"\"\n",
    "    Строит countplot\n",
    "    \"\"\"\n",
    " \n",
    "    plt.figure(figsize=(15, 7))\n",
    "    sns.countplot(x=exp_group, data=data, hue=targ_main)\n",
    "\n",
    "    plt.xlabel(targ_main, fontsize=13)\n",
    "    plt.ylabel('Количество', fontsize=13)\n",
    "    plt.title(title, fontsize=15)\n",
    "\n",
    "    plt.show()"
   ]
  },
  {
   "cell_type": "code",
   "execution_count": 38,
   "id": "9d32d494",
   "metadata": {},
   "outputs": [
    {
     "data": {
      "image/png": "[encoded data removed]",
      "text/plain": [
       "<Figure size 1080x504 with 1 Axes>"
      ]
     },
     "metadata": {
      "needs_background": "light"
     },
     "output_type": "display_data"
    }
   ],
   "source": [
    "countplot_group('is_male', fin_df, 'bins_price',\n",
    "                'Зависимость пола от цены устройства (в количестве)')"
   ]
  },
  {
   "cell_type": "code",
   "execution_count": 39,
   "id": "0b0ac906",
   "metadata": {},
   "outputs": [
    {
     "data": {
      "image/png": "[encoded data removed]",
      "text/plain": [
       "<Figure size 2160x432 with 1 Axes>"
      ]
     },
     "metadata": {
      "needs_background": "light"
     },
     "output_type": "display_data"
    }
   ],
   "source": [
    "barplot_group('bins_price', 'is_male', fin_df,\n",
    "              'Зависимость пола от цены устройства', 0)"
   ]
  },
  {
   "cell_type": "code",
   "execution_count": 48,
   "id": "f75ef127",
   "metadata": {},
   "outputs": [
    {
     "name": "stdout",
     "output_type": "stream",
     "text": [
      "chi2 statistic: 29727\n",
      "p-value 0\n",
      "Две переменные имеют связь\n"
     ]
    }
   ],
   "source": [
    "check_chi2(fin_df['bins_price'], fin_df['is_male'])"
   ]
  },
  {
   "cell_type": "code",
   "execution_count": 49,
   "id": "1bd47f8d",
   "metadata": {},
   "outputs": [
    {
     "data": {
      "text/html": [
       "<div>\n",
       "<style scoped>\n",
       "    .dataframe tbody tr th:only-of-type {\n",
       "        vertical-align: middle;\n",
       "    }\n",
       "\n",
       "    .dataframe tbody tr th {\n",
       "        vertical-align: top;\n",
       "    }\n",
       "\n",
       "    .dataframe thead th {\n",
       "        text-align: right;\n",
       "    }\n",
       "</style>\n",
       "<table border=\"1\" class=\"dataframe\">\n",
       "  <thead>\n",
       "    <tr style=\"text-align: right;\">\n",
       "      <th>is_male</th>\n",
       "      <th>0</th>\n",
       "      <th>1</th>\n",
       "    </tr>\n",
       "    <tr>\n",
       "      <th>bins_price</th>\n",
       "      <th></th>\n",
       "      <th></th>\n",
       "    </tr>\n",
       "  </thead>\n",
       "  <tbody>\n",
       "    <tr>\n",
       "      <th>cheap_price</th>\n",
       "      <td>0.482579</td>\n",
       "      <td>0.517421</td>\n",
       "    </tr>\n",
       "    <tr>\n",
       "      <th>high_price</th>\n",
       "      <td>0.513691</td>\n",
       "      <td>0.486309</td>\n",
       "    </tr>\n",
       "    <tr>\n",
       "      <th>middle_price</th>\n",
       "      <td>0.462724</td>\n",
       "      <td>0.537276</td>\n",
       "    </tr>\n",
       "  </tbody>\n",
       "</table>\n",
       "</div>"
      ],
      "text/plain": [
       "is_male              0         1\n",
       "bins_price                      \n",
       "cheap_price   0.482579  0.517421\n",
       "high_price    0.513691  0.486309\n",
       "middle_price  0.462724  0.537276"
      ]
     },
     "execution_count": 49,
     "metadata": {},
     "output_type": "execute_result"
    }
   ],
   "source": [
    "pd.crosstab(index=fin_df.bins_price,\n",
    "            columns=fin_df.is_male,\n",
    "            normalize='index')"
   ]
  },
  {
   "cell_type": "markdown",
   "id": "3a15cec9",
   "metadata": {},
   "source": [
    "**Вывод:**\n",
    "Цена устройства оказывает небольшое влияние на принадлежность к тому или иному полу. Так в дешевом и среднем сегментах преобладают пользователи мужского пола, а в дорогом - женского. Гипотеза подтвердилась. "
   ]
  },
  {
   "cell_type": "markdown",
   "id": "b2d72eeb",
   "metadata": {},
   "source": [
    "## Гипотеза 6:\n",
    "- Женщины делают больше запросов за один день, чем мужчины. "
   ]
  },
  {
   "cell_type": "code",
   "execution_count": 51,
   "id": "8d23b912",
   "metadata": {},
   "outputs": [],
   "source": [
    "def boxplot_group(targ_main: str, data: pd.DataFrame,\n",
    "                    exp_group: str, title: str) -> None:\n",
    "    \"\"\"\n",
    "    Строит boxplot\n",
    "    :param targ_main: целевой признак\n",
    "    :param data: датасет\n",
    "    :param exp_group: признак для анализа\n",
    "    :param title: название графика\n",
    "    :return: None\n",
    "    \"\"\"\n",
    "    sns.boxplot(y=targ_main, x=exp_group, data=data, orient='h')\n",
    "\n",
    "    plt.title(title, fontsize=18)\n",
    "    plt.ylabel(targ_main, fontsize=15)\n",
    "    plt.xlabel(exp_group, fontsize=15)\n",
    "    plt.show()"
   ]
  },
  {
   "cell_type": "code",
   "execution_count": 53,
   "id": "d784cd6c",
   "metadata": {},
   "outputs": [
    {
     "data": {
      "image/png": "[encoded data removed]",
      "text/plain": [
       "<Figure size 432x288 with 1 Axes>"
      ]
     },
     "metadata": {
      "needs_background": "light"
     },
     "output_type": "display_data"
    }
   ],
   "source": [
    "boxplot_group('is_male', fin_df, 'request_cnt',\n",
    "              'Зависимость пола от количества запросов в день')"
   ]
  },
  {
   "cell_type": "code",
   "execution_count": 54,
   "id": "b1a76146",
   "metadata": {},
   "outputs": [
    {
     "data": {
      "text/plain": [
       "is_male\n",
       "0    1.0\n",
       "1    1.0\n",
       "Name: request_cnt, dtype: float64"
      ]
     },
     "execution_count": 54,
     "metadata": {},
     "output_type": "execute_result"
    }
   ],
   "source": [
    "fin_df.groupby('is_male')['request_cnt'].median()"
   ]
  },
  {
   "cell_type": "markdown",
   "id": "ee406fdb",
   "metadata": {},
   "source": [
    "**Вывод:**\n",
    "В среднем оба пола делают по одному запросу в день. Гипотеза не подтвердилась. "
   ]
  },
  {
   "cell_type": "markdown",
   "id": "a60738e0",
   "metadata": {},
   "source": [
    "## Гипотеза 7:\n",
    "- Женщины более активны в первой половине дня, чем мужчины. "
   ]
  },
  {
   "cell_type": "code",
   "execution_count": 55,
   "id": "713cd9f7",
   "metadata": {},
   "outputs": [
    {
     "data": {
      "image/png": "[encoded data removed]",
      "text/plain": [
       "<Figure size 2160x432 with 1 Axes>"
      ]
     },
     "metadata": {
      "needs_background": "light"
     },
     "output_type": "display_data"
    }
   ],
   "source": [
    "barplot_group('part_of_day', 'is_male', fin_df,\n",
    "              'Зависимость пола от активности в течение дня', 0)"
   ]
  },
  {
   "cell_type": "code",
   "execution_count": 56,
   "id": "69c958c8",
   "metadata": {},
   "outputs": [
    {
     "name": "stdout",
     "output_type": "stream",
     "text": [
      "chi2 statistic: 16155\n",
      "p-value 0\n",
      "Две переменные имеют связь\n"
     ]
    }
   ],
   "source": [
    "check_chi2(fin_df['part_of_day'], fin_df['is_male'])"
   ]
  },
  {
   "cell_type": "code",
   "execution_count": 57,
   "id": "991745eb",
   "metadata": {},
   "outputs": [
    {
     "data": {
      "text/html": [
       "<div>\n",
       "<style scoped>\n",
       "    .dataframe tbody tr th:only-of-type {\n",
       "        vertical-align: middle;\n",
       "    }\n",
       "\n",
       "    .dataframe tbody tr th {\n",
       "        vertical-align: top;\n",
       "    }\n",
       "\n",
       "    .dataframe thead th {\n",
       "        text-align: right;\n",
       "    }\n",
       "</style>\n",
       "<table border=\"1\" class=\"dataframe\">\n",
       "  <thead>\n",
       "    <tr style=\"text-align: right;\">\n",
       "      <th>is_male</th>\n",
       "      <th>0</th>\n",
       "      <th>1</th>\n",
       "    </tr>\n",
       "    <tr>\n",
       "      <th>part_of_day</th>\n",
       "      <th></th>\n",
       "      <th></th>\n",
       "    </tr>\n",
       "  </thead>\n",
       "  <tbody>\n",
       "    <tr>\n",
       "      <th>day</th>\n",
       "      <td>0.492710</td>\n",
       "      <td>0.507290</td>\n",
       "    </tr>\n",
       "    <tr>\n",
       "      <th>evening</th>\n",
       "      <td>0.491031</td>\n",
       "      <td>0.508969</td>\n",
       "    </tr>\n",
       "    <tr>\n",
       "      <th>morning</th>\n",
       "      <td>0.479706</td>\n",
       "      <td>0.520294</td>\n",
       "    </tr>\n",
       "    <tr>\n",
       "      <th>night</th>\n",
       "      <td>0.446483</td>\n",
       "      <td>0.553517</td>\n",
       "    </tr>\n",
       "  </tbody>\n",
       "</table>\n",
       "</div>"
      ],
      "text/plain": [
       "is_male             0         1\n",
       "part_of_day                    \n",
       "day          0.492710  0.507290\n",
       "evening      0.491031  0.508969\n",
       "morning      0.479706  0.520294\n",
       "night        0.446483  0.553517"
      ]
     },
     "execution_count": 57,
     "metadata": {},
     "output_type": "execute_result"
    }
   ],
   "source": [
    "pd.crosstab(index=fin_df.part_of_day,\n",
    "            columns=fin_df.is_male,\n",
    "            normalize='index')"
   ]
  },
  {
   "cell_type": "markdown",
   "id": "34fca665",
   "metadata": {},
   "source": [
    "**Вывод:**\n",
    "Пик активности женщин в дневное и вечернее время, а мужчины - утреннее и ночное. Гипотеза отчасти подтвердилась. "
   ]
  },
  {
   "cell_type": "markdown",
   "id": "bc42ac7c",
   "metadata": {},
   "source": [
    "## Гипотеза 8:\n",
    "- Среди мужчины больше молодых людей, но в целом возраст не влияет на принадлежность к полу. "
   ]
  },
  {
   "cell_type": "code",
   "execution_count": 58,
   "id": "5e9dd0a0",
   "metadata": {},
   "outputs": [
    {
     "data": {
      "image/png": "[encoded data removed]",
      "text/plain": [
       "<Figure size 2160x432 with 1 Axes>"
      ]
     },
     "metadata": {
      "needs_background": "light"
     },
     "output_type": "display_data"
    }
   ],
   "source": [
    "barplot_group('bins_age', 'is_male', fin_df,\n",
    "              'Зависимость пола от возраста', 0)"
   ]
  },
  {
   "cell_type": "code",
   "execution_count": 59,
   "id": "2ef6ead2",
   "metadata": {},
   "outputs": [
    {
     "name": "stdout",
     "output_type": "stream",
     "text": [
      "chi2 statistic: 1.8037e+05\n",
      "p-value 0\n",
      "Две переменные имеют связь\n"
     ]
    }
   ],
   "source": [
    "check_chi2(fin_df['bins_age'], fin_df['is_male'])"
   ]
  },
  {
   "cell_type": "code",
   "execution_count": 60,
   "id": "6eb3a121",
   "metadata": {},
   "outputs": [
    {
     "data": {
      "text/html": [
       "<div>\n",
       "<style scoped>\n",
       "    .dataframe tbody tr th:only-of-type {\n",
       "        vertical-align: middle;\n",
       "    }\n",
       "\n",
       "    .dataframe tbody tr th {\n",
       "        vertical-align: top;\n",
       "    }\n",
       "\n",
       "    .dataframe thead th {\n",
       "        text-align: right;\n",
       "    }\n",
       "</style>\n",
       "<table border=\"1\" class=\"dataframe\">\n",
       "  <thead>\n",
       "    <tr style=\"text-align: right;\">\n",
       "      <th>is_male</th>\n",
       "      <th>0</th>\n",
       "      <th>1</th>\n",
       "    </tr>\n",
       "    <tr>\n",
       "      <th>bins_age</th>\n",
       "      <th></th>\n",
       "      <th></th>\n",
       "    </tr>\n",
       "  </thead>\n",
       "  <tbody>\n",
       "    <tr>\n",
       "      <th>middle_aged</th>\n",
       "      <td>0.502029</td>\n",
       "      <td>0.497971</td>\n",
       "    </tr>\n",
       "    <tr>\n",
       "      <th>older_aged</th>\n",
       "      <td>0.612879</td>\n",
       "      <td>0.387121</td>\n",
       "    </tr>\n",
       "    <tr>\n",
       "      <th>young_aged</th>\n",
       "      <td>0.448482</td>\n",
       "      <td>0.551518</td>\n",
       "    </tr>\n",
       "  </tbody>\n",
       "</table>\n",
       "</div>"
      ],
      "text/plain": [
       "is_male             0         1\n",
       "bins_age                       \n",
       "middle_aged  0.502029  0.497971\n",
       "older_aged   0.612879  0.387121\n",
       "young_aged   0.448482  0.551518"
      ]
     },
     "execution_count": 60,
     "metadata": {},
     "output_type": "execute_result"
    }
   ],
   "source": [
    "pd.crosstab(index=fin_df.bins_age,\n",
    "            columns=fin_df.is_male,\n",
    "            normalize='index')"
   ]
  },
  {
   "cell_type": "markdown",
   "id": "d53ab498",
   "metadata": {},
   "source": [
    "**Вывод:**\n",
    "Среди молодых людей больше мужчин, однако среди людей среднего и пожилого возраста преоладают женщины. Гипотеза подтвердилась. "
   ]
  },
  {
   "cell_type": "markdown",
   "id": "fe5ca313",
   "metadata": {},
   "source": [
    "## Гипотеза 9:\n",
    "- Месяц и его декады не влияют на таргет."
   ]
  },
  {
   "cell_type": "code",
   "execution_count": 61,
   "id": "ea59051c",
   "metadata": {
    "scrolled": true
   },
   "outputs": [
    {
     "data": {
      "image/png": "[encoded data removed]",
      "text/plain": [
       "<Figure size 2160x432 with 1 Axes>"
      ]
     },
     "metadata": {
      "needs_background": "light"
     },
     "output_type": "display_data"
    }
   ],
   "source": [
    "barplot_group('bins_day', 'is_male', fin_df,\n",
    "              'Зависимость пола от декады месяца', 0)"
   ]
  },
  {
   "cell_type": "code",
   "execution_count": 62,
   "id": "87ef4377",
   "metadata": {},
   "outputs": [
    {
     "name": "stdout",
     "output_type": "stream",
     "text": [
      "chi2 statistic: 50.87\n",
      "p-value 8.9874e-12\n",
      "Две переменные имеют связь\n"
     ]
    }
   ],
   "source": [
    "check_chi2(fin_df['bins_day'], fin_df['is_male'])"
   ]
  },
  {
   "cell_type": "code",
   "execution_count": 63,
   "id": "6809976d",
   "metadata": {},
   "outputs": [
    {
     "data": {
      "text/html": [
       "<div>\n",
       "<style scoped>\n",
       "    .dataframe tbody tr th:only-of-type {\n",
       "        vertical-align: middle;\n",
       "    }\n",
       "\n",
       "    .dataframe tbody tr th {\n",
       "        vertical-align: top;\n",
       "    }\n",
       "\n",
       "    .dataframe thead th {\n",
       "        text-align: right;\n",
       "    }\n",
       "</style>\n",
       "<table border=\"1\" class=\"dataframe\">\n",
       "  <thead>\n",
       "    <tr style=\"text-align: right;\">\n",
       "      <th>is_male</th>\n",
       "      <th>0</th>\n",
       "      <th>1</th>\n",
       "    </tr>\n",
       "    <tr>\n",
       "      <th>bins_day</th>\n",
       "      <th></th>\n",
       "      <th></th>\n",
       "    </tr>\n",
       "  </thead>\n",
       "  <tbody>\n",
       "    <tr>\n",
       "      <th>one_decade</th>\n",
       "      <td>0.484608</td>\n",
       "      <td>0.515392</td>\n",
       "    </tr>\n",
       "    <tr>\n",
       "      <th>three_decade</th>\n",
       "      <td>0.482915</td>\n",
       "      <td>0.517085</td>\n",
       "    </tr>\n",
       "    <tr>\n",
       "      <th>two_decade</th>\n",
       "      <td>0.484413</td>\n",
       "      <td>0.515587</td>\n",
       "    </tr>\n",
       "  </tbody>\n",
       "</table>\n",
       "</div>"
      ],
      "text/plain": [
       "is_male              0         1\n",
       "bins_day                        \n",
       "one_decade    0.484608  0.515392\n",
       "three_decade  0.482915  0.517085\n",
       "two_decade    0.484413  0.515587"
      ]
     },
     "execution_count": 63,
     "metadata": {},
     "output_type": "execute_result"
    }
   ],
   "source": [
    "pd.crosstab(index=fin_df.bins_day,\n",
    "            columns=fin_df.is_male,\n",
    "            normalize='index')"
   ]
  },
  {
   "cell_type": "code",
   "execution_count": 64,
   "id": "673747a9",
   "metadata": {},
   "outputs": [
    {
     "data": {
      "image/png": "[encoded data removed]",
      "text/plain": [
       "<Figure size 2160x432 with 1 Axes>"
      ]
     },
     "metadata": {
      "needs_background": "light"
     },
     "output_type": "display_data"
    }
   ],
   "source": [
    "barplot_group('month', 'is_male', fin_df,\n",
    "              'Зависимость пола от месяца', 0)"
   ]
  },
  {
   "cell_type": "code",
   "execution_count": 65,
   "id": "2f570655",
   "metadata": {},
   "outputs": [
    {
     "name": "stdout",
     "output_type": "stream",
     "text": [
      "chi2 statistic: 22918\n",
      "p-value 0\n",
      "Две переменные имеют связь\n"
     ]
    }
   ],
   "source": [
    "check_chi2(fin_df['month'], fin_df['is_male'])"
   ]
  },
  {
   "cell_type": "code",
   "execution_count": 66,
   "id": "65bfa841",
   "metadata": {},
   "outputs": [
    {
     "data": {
      "text/html": [
       "<div>\n",
       "<style scoped>\n",
       "    .dataframe tbody tr th:only-of-type {\n",
       "        vertical-align: middle;\n",
       "    }\n",
       "\n",
       "    .dataframe tbody tr th {\n",
       "        vertical-align: top;\n",
       "    }\n",
       "\n",
       "    .dataframe thead th {\n",
       "        text-align: right;\n",
       "    }\n",
       "</style>\n",
       "<table border=\"1\" class=\"dataframe\">\n",
       "  <thead>\n",
       "    <tr style=\"text-align: right;\">\n",
       "      <th>is_male</th>\n",
       "      <th>0</th>\n",
       "      <th>1</th>\n",
       "    </tr>\n",
       "    <tr>\n",
       "      <th>month</th>\n",
       "      <th></th>\n",
       "      <th></th>\n",
       "    </tr>\n",
       "  </thead>\n",
       "  <tbody>\n",
       "    <tr>\n",
       "      <th>April</th>\n",
       "      <td>0.476243</td>\n",
       "      <td>0.523757</td>\n",
       "    </tr>\n",
       "    <tr>\n",
       "      <th>August</th>\n",
       "      <td>0.483932</td>\n",
       "      <td>0.516068</td>\n",
       "    </tr>\n",
       "    <tr>\n",
       "      <th>December</th>\n",
       "      <td>0.360769</td>\n",
       "      <td>0.639231</td>\n",
       "    </tr>\n",
       "    <tr>\n",
       "      <th>February</th>\n",
       "      <td>0.471743</td>\n",
       "      <td>0.528257</td>\n",
       "    </tr>\n",
       "    <tr>\n",
       "      <th>January</th>\n",
       "      <td>0.427543</td>\n",
       "      <td>0.572457</td>\n",
       "    </tr>\n",
       "    <tr>\n",
       "      <th>July</th>\n",
       "      <td>0.491518</td>\n",
       "      <td>0.508482</td>\n",
       "    </tr>\n",
       "    <tr>\n",
       "      <th>June</th>\n",
       "      <td>0.489023</td>\n",
       "      <td>0.510977</td>\n",
       "    </tr>\n",
       "    <tr>\n",
       "      <th>March</th>\n",
       "      <td>0.466362</td>\n",
       "      <td>0.533638</td>\n",
       "    </tr>\n",
       "    <tr>\n",
       "      <th>May</th>\n",
       "      <td>0.470933</td>\n",
       "      <td>0.529067</td>\n",
       "    </tr>\n",
       "    <tr>\n",
       "      <th>November</th>\n",
       "      <td>0.391133</td>\n",
       "      <td>0.608867</td>\n",
       "    </tr>\n",
       "    <tr>\n",
       "      <th>October</th>\n",
       "      <td>0.400929</td>\n",
       "      <td>0.599071</td>\n",
       "    </tr>\n",
       "    <tr>\n",
       "      <th>September</th>\n",
       "      <td>0.342554</td>\n",
       "      <td>0.657446</td>\n",
       "    </tr>\n",
       "  </tbody>\n",
       "</table>\n",
       "</div>"
      ],
      "text/plain": [
       "is_male           0         1\n",
       "month                        \n",
       "April      0.476243  0.523757\n",
       "August     0.483932  0.516068\n",
       "December   0.360769  0.639231\n",
       "February   0.471743  0.528257\n",
       "January    0.427543  0.572457\n",
       "July       0.491518  0.508482\n",
       "June       0.489023  0.510977\n",
       "March      0.466362  0.533638\n",
       "May        0.470933  0.529067\n",
       "November   0.391133  0.608867\n",
       "October    0.400929  0.599071\n",
       "September  0.342554  0.657446"
      ]
     },
     "execution_count": 66,
     "metadata": {},
     "output_type": "execute_result"
    }
   ],
   "source": [
    "pd.crosstab(index=fin_df.month,\n",
    "            columns=fin_df.is_male,\n",
    "            normalize='index')"
   ]
  },
  {
   "cell_type": "markdown",
   "id": "bfeeaca8",
   "metadata": {},
   "source": [
    "**Вывод:**\n",
    "Пол не зависит от декады месяца. Но в тоже время от самого месяца зависит принадлежность к полу. Так в декабре, ноябре и сентябре пик активности у мужчин. А в июле, августе и июне у женщин. Гипотеза  подтвердилась лишь частично."
   ]
  },
  {
   "cell_type": "markdown",
   "id": "6c188b78",
   "metadata": {},
   "source": [
    "# Общие выводы:\n",
    "1.  Регион и населенный пункт слабо влияют на принадлежность к тому или иному полу. В Москве и Санкт-Петербурге мужчин в целевой переменной больше, чем женщин;\n",
    "2. Производитель устройства и его модель частично влияют на принадлежность к тому или иному полу. Женщины чуть более часто предпочитают продукцию Apple;\n",
    "3. Операционная система устройства оказывает небольшое влияние пол. Женщины чаще использут iOS, а мужчины Android;\n",
    "4. Тип устройства влияет на принадлежность к полу. Смартфонами пользуется практически одинаковое количество людей каждого пола, но мужчины также использут альтернативные устройства;\n",
    "5. Цена устройства оказывает влияние на принадлежность к тому или иному полу. В дешевом и среднем сегментах преобладают пользователи мужского пола, а в дорогом - женского;\n",
    "6. Вероятность того, что мужчины сделают от 1 до 3 запросов в день выше, но при количестве запросов от 5 до 12 она практически одинакова. В среднем оба пола делают по одному запросу в день;\n",
    "7. Пик активности женщин в дневное и вечернее время , а мужчины - утреннее и ночное. ;\n",
    "8. Среди молодых людей больше мужчин, однако среди людей среднего и пожилого возраста преоладают женщины;\n",
    "9. Пол не зависит от декады месяца. Но в тоже время от самого месяца зависит принадлежность к полу. Так в декабре, январе и сентябре пик активности у мужчин. А в июле, августе и ноябре у женщин."
   ]
  },
  {
   "cell_type": "markdown",
   "id": "af963126",
   "metadata": {},
   "source": [
    "# Получение эмбеддингов"
   ]
  },
  {
   "cell_type": "code",
   "execution_count": 67,
   "id": "86818313",
   "metadata": {},
   "outputs": [],
   "source": [
    "fin_df_pq = pa.Table.from_pandas(fin_df)"
   ]
  },
  {
   "cell_type": "code",
   "execution_count": 68,
   "id": "1af09987",
   "metadata": {},
   "outputs": [],
   "source": [
    "# аггрегирует данные\n",
    "data_agg = fin_df_pq.select([\n",
    "    'user_id', 'url_host', 'city_name', 'cpe_model_name', 'bins_price',\n",
    "    'part_of_day', 'bins_age', 'month'\n",
    "]).group_by(['user_id', 'url_host'\n",
    "             ]).aggregate([('month', 'count_distinct'),\n",
    "                          ('city_name', 'count_distinct'),\n",
    "                          ('cpe_model_name', 'count_distinct'),\n",
    "                          ('bins_price', 'count_distinct'),\n",
    "                          ('part_of_day', 'count_distinct'),\n",
    "                          ('bins_age', 'count_distinct')])"
   ]
  },
  {
   "cell_type": "code",
   "execution_count": 69,
   "id": "7099668c",
   "metadata": {},
   "outputs": [
    {
     "name": "stdout",
     "output_type": "stream",
     "text": [
      "63055 urls\n",
      "26501 users\n"
     ]
    }
   ],
   "source": [
    "# создает словари url и user\n",
    "url_set = set(data_agg.select(['url_host']).to_pandas()['url_host'])\n",
    "print(f'{len(url_set)} urls')\n",
    "url_dict = {url: idurl for url, idurl in zip(url_set, range(len(url_set)))}\n",
    "usr_set = set(data_agg.select(['user_id']).to_pandas()['user_id'])\n",
    "print(f'{len(usr_set)} users')\n",
    "usr_dict = {usr: user_id for usr, user_id in zip(usr_set, range(len(usr_set)))}"
   ]
  },
  {
   "cell_type": "code",
   "execution_count": 70,
   "id": "b97ec37a",
   "metadata": {},
   "outputs": [],
   "source": [
    "def gen_mat(dat: str, user: str, url: str) -> scipy.sparse.coo_matrix:\n",
    "    \"\"\"\n",
    "    Генерирует разряженные матрицы\n",
    "    \"\"\"\n",
    "    values = np.array(data_agg.select([dat]).to_pandas()[[dat]])\n",
    "    rows = np.array(data_agg.select([user]).to_pandas()[user].map(usr_dict))\n",
    "    cols = np.array(data_agg.select([url]).to_pandas()[url].map(url_dict))\n",
    "    mat = scipy.sparse.coo_matrix((values.reshape((len(values))), (rows, cols)), \n",
    "                                      shape=((rows.max() + 1), \n",
    "                                             (cols.max() + 1).astype('int64')))\n",
    "    return mat"
   ]
  },
  {
   "cell_type": "code",
   "execution_count": 71,
   "id": "27d1eb7f",
   "metadata": {},
   "outputs": [],
   "source": [
    "mat_1 = gen_mat(dat='month_count_distinct', \n",
    "        user='user_id', \n",
    "        url='url_host')"
   ]
  },
  {
   "cell_type": "code",
   "execution_count": 72,
   "id": "d303a0c1",
   "metadata": {},
   "outputs": [],
   "source": [
    "mat_2 = gen_mat(dat='city_name_count_distinct', \n",
    "        user='user_id', \n",
    "        url='url_host')"
   ]
  },
  {
   "cell_type": "code",
   "execution_count": 73,
   "id": "b718195c",
   "metadata": {},
   "outputs": [],
   "source": [
    "mat_3 = gen_mat(dat='cpe_model_name_count_distinct', \n",
    "        user='user_id', \n",
    "        url='url_host')"
   ]
  },
  {
   "cell_type": "code",
   "execution_count": 74,
   "id": "aad28793",
   "metadata": {},
   "outputs": [],
   "source": [
    "mat_4 = gen_mat(dat='bins_price_count_distinct', \n",
    "        user='user_id', \n",
    "        url='url_host')"
   ]
  },
  {
   "cell_type": "code",
   "execution_count": 75,
   "id": "367a8f65",
   "metadata": {},
   "outputs": [],
   "source": [
    "mat_5 = gen_mat(dat='part_of_day_count_distinct', \n",
    "        user='user_id', \n",
    "        url='url_host')"
   ]
  },
  {
   "cell_type": "code",
   "execution_count": 76,
   "id": "478e2181",
   "metadata": {},
   "outputs": [],
   "source": [
    "mat_6 = gen_mat(dat='bins_age_count_distinct', \n",
    "        user='user_id', \n",
    "        url='url_host')"
   ]
  },
  {
   "cell_type": "code",
   "execution_count": 77,
   "id": "41b56e42",
   "metadata": {},
   "outputs": [],
   "source": [
    "# создает обобщенную разряженную матрицу\n",
    "fin_mat = scipy.sparse.hstack((mat_1, mat_2, mat_3, mat_4, mat_5, mat_6)).tocsr()"
   ]
  },
  {
   "cell_type": "code",
   "execution_count": 78,
   "id": "930b2c58",
   "metadata": {},
   "outputs": [],
   "source": [
    "als = implicit.als.AlternatingLeastSquares(factors=50, \n",
    "                                           iterations=30, \n",
    "                                           use_gpu=False, \n",
    "                                           calculate_training_loss=False, \n",
    "                                           regularization=0.1,\n",
    "                                           random_state=RAND)"
   ]
  },
  {
   "cell_type": "code",
   "execution_count": 79,
   "id": "e262257c",
   "metadata": {},
   "outputs": [
    {
     "data": {
      "application/vnd.jupyter.widget-view+json": {
       "model_id": "ad93ddbb3e154388912d2c3af6a48d37",
       "version_major": 2,
       "version_minor": 0
      },
      "text/plain": [
       "  0%|          | 0/30 [00:00<?, ?it/s]"
      ]
     },
     "metadata": {},
     "output_type": "display_data"
    }
   ],
   "source": [
    "als.fit(fin_mat)"
   ]
  },
  {
   "cell_type": "code",
   "execution_count": 80,
   "id": "f8468063",
   "metadata": {},
   "outputs": [],
   "source": [
    "# массив скрытых факторов для пользователей\n",
    "u_factors = als.user_factors "
   ]
  },
  {
   "cell_type": "code",
   "execution_count": 81,
   "id": "240c0e41",
   "metadata": {},
   "outputs": [
    {
     "data": {
      "text/plain": [
       "is_male\n",
       "1    13498\n",
       "0    13002\n",
       "Name: count, dtype: int64"
      ]
     },
     "execution_count": 81,
     "metadata": {},
     "output_type": "execute_result"
    }
   ],
   "source": [
    "# создает итоговый Dataframe\n",
    "inv_usr_map = {v: k for k, v in usr_dict.items()}\n",
    "usr_emb = pd.DataFrame(u_factors)\n",
    "usr_emb['user_id'] = usr_emb.index.map(inv_usr_map)\n",
    "df = target_train.merge(usr_emb, how = 'inner', on = ['user_id'])\n",
    "df = df[df['is_male'] != 'NA']\n",
    "df = df.dropna()\n",
    "df['is_male'] = df['is_male'].astype('int8')\n",
    "df['is_male'].value_counts()"
   ]
  },
  {
   "cell_type": "code",
   "execution_count": 82,
   "id": "3687fa2a",
   "metadata": {},
   "outputs": [],
   "source": [
    "df.to_csv('data/df.csv', index=False)"
   ]
  }
 ],
 "metadata": {
  "kernelspec": {
   "display_name": "Python 3 (ipykernel)",
   "language": "python",
   "name": "python3"
  },
  "language_info": {
   "codemirror_mode": {
    "name": "ipython",
    "version": 3
   },
   "file_extension": ".py",
   "mimetype": "text/x-python",
   "name": "python",
   "nbconvert_exporter": "python",
   "pygments_lexer": "ipython3",
   "version": "3.9.12"
  },
  "toc": {
   "base_numbering": 1,
   "nav_menu": {},
   "number_sections": true,
   "sideBar": true,
   "skip_h1_title": false,
   "title_cell": "Table of Contents",
   "title_sidebar": "Contents",
   "toc_cell": false,
   "toc_position": {
    "height": "calc(100% - 180px)",
    "left": "10px",
    "top": "150px",
    "width": "250.434784px"
   },
   "toc_section_display": true,
   "toc_window_display": false
  }
 },
 "nbformat": 4,
 "nbformat_minor": 5
}
